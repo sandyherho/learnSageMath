{
 "cells": [
  {
   "cell_type": "code",
   "execution_count": 1,
   "id": "70b3de61",
   "metadata": {},
   "outputs": [],
   "source": [
    "%display latex\n",
    "import matplotlib.pyplot as plt\n",
    "plt.style.use('ggplot')"
   ]
  },
  {
   "cell_type": "markdown",
   "id": "19b8b9fe",
   "metadata": {},
   "source": [
    "# Symbolic exp & simplifications"
   ]
  },
  {
   "cell_type": "markdown",
   "id": "07f5a3ea",
   "metadata": {},
   "source": [
    "## Symbolc expressions"
   ]
  },
  {
   "cell_type": "code",
   "execution_count": 2,
   "id": "4388ec9d",
   "metadata": {},
   "outputs": [
    {
     "data": {
      "text/html": [
       "<html>\\(\\displaystyle \\arctan\\left({\\left| x \\right|} + 1\\right)\\)</html>"
      ],
      "text/latex": [
       "$\\displaystyle \\arctan\\left({\\left| x \\right|} + 1\\right)$"
      ],
      "text/plain": [
       "arctan(abs(x) + 1)"
      ]
     },
     "execution_count": 2,
     "metadata": {},
     "output_type": "execute_result"
    }
   ],
   "source": [
    "expr1 = arctan(1 +abs(x))\n",
    "expr1"
   ]
  },
  {
   "cell_type": "code",
   "execution_count": 3,
   "id": "69d9d4da",
   "metadata": {},
   "outputs": [
    {
     "data": {
      "text/html": [
       "<html>\\(\\displaystyle \\frac{1}{2} \\, \\pi - \\arctan\\left(\\frac{1}{{\\left| x \\right|}}\\right)\\)</html>"
      ],
      "text/latex": [
       "$\\displaystyle \\frac{1}{2} \\, \\pi - \\arctan\\left(\\frac{1}{{\\left| x \\right|}}\\right)$"
      ],
      "text/plain": [
       "1/2*pi - arctan(1/abs(x))"
      ]
     },
     "execution_count": 3,
     "metadata": {},
     "output_type": "execute_result"
    }
   ],
   "source": [
    "expr2 = pi/2 - arctan(1 / abs(x))\n",
    "expr2"
   ]
  },
  {
   "cell_type": "code",
   "execution_count": 4,
   "id": "799ef21e",
   "metadata": {},
   "outputs": [
    {
     "data": {
      "text/html": [
       "<html>\\(\\displaystyle \\mathrm{False}\\)</html>"
      ],
      "text/latex": [
       "$\\displaystyle \\mathrm{False}$"
      ],
      "text/plain": [
       "False"
      ]
     },
     "execution_count": 4,
     "metadata": {},
     "output_type": "execute_result"
    }
   ],
   "source": [
    "bool(expr1 == expr2)"
   ]
  },
  {
   "cell_type": "code",
   "execution_count": 5,
   "id": "9146dc89",
   "metadata": {},
   "outputs": [],
   "source": [
    "a, x =var('a, x')"
   ]
  },
  {
   "cell_type": "code",
   "execution_count": 6,
   "id": "d49db37d",
   "metadata": {},
   "outputs": [
    {
     "data": {
      "text/html": [
       "<html>\\(\\displaystyle {\\left(x + 1\\right)} \\cos\\left(a + x\\right)\\)</html>"
      ],
      "text/latex": [
       "$\\displaystyle {\\left(x + 1\\right)} \\cos\\left(a + x\\right)$"
      ],
      "text/plain": [
       "(x + 1)*cos(a + x)"
      ]
     },
     "execution_count": 6,
     "metadata": {},
     "output_type": "execute_result"
    }
   ],
   "source": [
    "y = cos(x + a) * (x + 1)\n",
    "y"
   ]
  },
  {
   "cell_type": "code",
   "execution_count": 7,
   "id": "ad72ffa7",
   "metadata": {},
   "outputs": [
    {
     "data": {
      "text/html": [
       "<html>\\(\\displaystyle x + 1\\)</html>"
      ],
      "text/latex": [
       "$\\displaystyle x + 1$"
      ],
      "text/plain": [
       "x + 1"
      ]
     },
     "execution_count": 7,
     "metadata": {},
     "output_type": "execute_result"
    }
   ],
   "source": [
    "y.subs(a = -x)"
   ]
  },
  {
   "cell_type": "code",
   "execution_count": 8,
   "id": "8606acf1",
   "metadata": {},
   "outputs": [
    {
     "data": {
      "text/html": [
       "<html>\\(\\displaystyle {\\left(x + 1\\right)} \\cos\\left(a + x\\right)\\)</html>"
      ],
      "text/latex": [
       "$\\displaystyle {\\left(x + 1\\right)} \\cos\\left(a + x\\right)$"
      ],
      "text/plain": [
       "(x + 1)*cos(a + x)"
      ]
     },
     "execution_count": 8,
     "metadata": {},
     "output_type": "execute_result"
    }
   ],
   "source": [
    "y"
   ]
  },
  {
   "cell_type": "code",
   "execution_count": 9,
   "id": "11209558",
   "metadata": {},
   "outputs": [
    {
     "data": {
      "text/html": [
       "<html>\\(\\displaystyle -\\frac{1}{4} \\, \\sqrt{3} {\\left(\\pi + 2\\right)}\\)</html>"
      ],
      "text/latex": [
       "$\\displaystyle -\\frac{1}{4} \\, \\sqrt{3} {\\left(\\pi + 2\\right)}$"
      ],
      "text/plain": [
       "-1/4*sqrt(3)*(pi + 2)"
      ]
     },
     "execution_count": 9,
     "metadata": {},
     "output_type": "execute_result"
    }
   ],
   "source": [
    "y.subs(x=pi/2, a=pi/3)"
   ]
  },
  {
   "cell_type": "code",
   "execution_count": 10,
   "id": "1146c24f",
   "metadata": {},
   "outputs": [
    {
     "data": {
      "text/html": [
       "<html>\\(\\displaystyle {\\left(x + 1\\right)} \\cos\\left(a + x\\right)\\)</html>"
      ],
      "text/latex": [
       "$\\displaystyle {\\left(x + 1\\right)} \\cos\\left(a + x\\right)$"
      ],
      "text/plain": [
       "(x + 1)*cos(a + x)"
      ]
     },
     "execution_count": 10,
     "metadata": {},
     "output_type": "execute_result"
    }
   ],
   "source": [
    "y"
   ]
  },
  {
   "cell_type": "code",
   "execution_count": 11,
   "id": "01bbfb93",
   "metadata": {},
   "outputs": [
    {
     "data": {
      "text/html": [
       "<html>\\(\\displaystyle -1.41333351100299\\)</html>"
      ],
      "text/latex": [
       "$\\displaystyle -1.41333351100299$"
      ],
      "text/plain": [
       "-1.41333351100299"
      ]
     },
     "execution_count": 11,
     "metadata": {},
     "output_type": "execute_result"
    }
   ],
   "source": [
    "y.subs(x=.5, a = 2.3)"
   ]
  },
  {
   "cell_type": "code",
   "execution_count": 12,
   "id": "b2656800",
   "metadata": {},
   "outputs": [
    {
     "data": {
      "text/html": [
       "<html>\\(\\displaystyle {\\left(x + 1\\right)} \\cos\\left(a + x\\right)\\)</html>"
      ],
      "text/latex": [
       "$\\displaystyle {\\left(x + 1\\right)} \\cos\\left(a + x\\right)$"
      ],
      "text/plain": [
       "(x + 1)*cos(a + x)"
      ]
     },
     "execution_count": 12,
     "metadata": {},
     "output_type": "execute_result"
    }
   ],
   "source": [
    "y"
   ]
  },
  {
   "cell_type": "code",
   "execution_count": 13,
   "id": "1221ad93",
   "metadata": {},
   "outputs": [
    {
     "data": {
      "text/html": [
       "<html>\\(\\displaystyle x + 1\\)</html>"
      ],
      "text/latex": [
       "$\\displaystyle x + 1$"
      ],
      "text/plain": [
       "x + 1"
      ]
     },
     "execution_count": 13,
     "metadata": {},
     "output_type": "execute_result"
    }
   ],
   "source": [
    "y(a=-x)"
   ]
  },
  {
   "cell_type": "code",
   "execution_count": 14,
   "id": "410654a9",
   "metadata": {},
   "outputs": [
    {
     "data": {
      "text/html": [
       "<html>\\(\\displaystyle {\\left(x + 1\\right)} \\cos\\left(a + x\\right)\\)</html>"
      ],
      "text/latex": [
       "$\\displaystyle {\\left(x + 1\\right)} \\cos\\left(a + x\\right)$"
      ],
      "text/plain": [
       "(x + 1)*cos(a + x)"
      ]
     },
     "execution_count": 14,
     "metadata": {},
     "output_type": "execute_result"
    }
   ],
   "source": [
    "y"
   ]
  },
  {
   "cell_type": "code",
   "execution_count": 15,
   "id": "c8e66b06",
   "metadata": {},
   "outputs": [
    {
     "data": {
      "text/html": [
       "<html>\\(\\displaystyle -\\frac{1}{4} \\, \\sqrt{3} {\\left(\\pi + 2\\right)}\\)</html>"
      ],
      "text/latex": [
       "$\\displaystyle -\\frac{1}{4} \\, \\sqrt{3} {\\left(\\pi + 2\\right)}$"
      ],
      "text/plain": [
       "-1/4*sqrt(3)*(pi + 2)"
      ]
     },
     "execution_count": 15,
     "metadata": {},
     "output_type": "execute_result"
    }
   ],
   "source": [
    "y(x=pi/2, a=pi/3)"
   ]
  },
  {
   "cell_type": "code",
   "execution_count": 16,
   "id": "799c2eb1",
   "metadata": {},
   "outputs": [
    {
     "data": {
      "text/html": [
       "<html>\\(\\displaystyle -1.41333351100299\\)</html>"
      ],
      "text/latex": [
       "$\\displaystyle -1.41333351100299$"
      ],
      "text/plain": [
       "-1.41333351100299"
      ]
     },
     "execution_count": 16,
     "metadata": {},
     "output_type": "execute_result"
    }
   ],
   "source": [
    " y(x=.5, a = 2.3)"
   ]
  },
  {
   "cell_type": "code",
   "execution_count": 17,
   "id": "e8a629cd",
   "metadata": {},
   "outputs": [],
   "source": [
    "x, y, z = var('x, y, z')"
   ]
  },
  {
   "cell_type": "code",
   "execution_count": 18,
   "id": "2eb102d8",
   "metadata": {},
   "outputs": [
    {
     "data": {
      "text/html": [
       "<html>\\(\\displaystyle x y + x z + y z\\)</html>"
      ],
      "text/latex": [
       "$\\displaystyle x y + x z + y z$"
      ],
      "text/plain": [
       "x*y + x*z + y*z"
      ]
     },
     "execution_count": 18,
     "metadata": {},
     "output_type": "execute_result"
    }
   ],
   "source": [
    "q = x*y + y*z + z*x\n",
    "q"
   ]
  },
  {
   "cell_type": "code",
   "execution_count": 19,
   "id": "8179ede6",
   "metadata": {},
   "outputs": [
    {
     "data": {
      "text/html": [
       "<html>\\(\\displaystyle x y + x z + y z\\)</html>"
      ],
      "text/latex": [
       "$\\displaystyle x y + x z + y z$"
      ],
      "text/plain": [
       "x*y + x*z + y*z"
      ]
     },
     "execution_count": 19,
     "metadata": {},
     "output_type": "execute_result"
    }
   ],
   "source": [
    "expr1 = q(x=y, y=z, z=x)\n",
    "expr1"
   ]
  },
  {
   "cell_type": "code",
   "execution_count": 20,
   "id": "17cbdcf9",
   "metadata": {},
   "outputs": [
    {
     "data": {
      "text/html": [
       "<html>\\(\\displaystyle \\mathrm{True}\\)</html>"
      ],
      "text/latex": [
       "$\\displaystyle \\mathrm{True}$"
      ],
      "text/plain": [
       "True"
      ]
     },
     "execution_count": 20,
     "metadata": {},
     "output_type": "execute_result"
    }
   ],
   "source": [
    "bool(q == expr1)"
   ]
  },
  {
   "cell_type": "code",
   "execution_count": 21,
   "id": "d5fa595c",
   "metadata": {},
   "outputs": [
    {
     "data": {
      "text/html": [
       "<html>\\(\\displaystyle \\mathrm{False}\\)</html>"
      ],
      "text/latex": [
       "$\\displaystyle \\mathrm{False}$"
      ],
      "text/plain": [
       "False"
      ]
     },
     "execution_count": 21,
     "metadata": {},
     "output_type": "execute_result"
    }
   ],
   "source": [
    "expr2 = q(z=y, y=x)\n",
    "bool(expr2 == 3*x^2)"
   ]
  },
  {
   "cell_type": "code",
   "execution_count": 22,
   "id": "95761af2",
   "metadata": {},
   "outputs": [],
   "source": [
    "y, z = var('y, z')"
   ]
  },
  {
   "cell_type": "code",
   "execution_count": 23,
   "id": "24b50184",
   "metadata": {},
   "outputs": [
    {
     "data": {
      "text/html": [
       "<html>\\(\\displaystyle x^{3} + y^{2} + z\\)</html>"
      ],
      "text/latex": [
       "$\\displaystyle x^{3} + y^{2} + z$"
      ],
      "text/plain": [
       "x^3 + y^2 + z"
      ]
     },
     "execution_count": 23,
     "metadata": {},
     "output_type": "execute_result"
    }
   ],
   "source": [
    "f = x^3 + y^2 + z\n",
    "f"
   ]
  },
  {
   "cell_type": "code",
   "execution_count": 24,
   "id": "5c378b8a",
   "metadata": {},
   "outputs": [
    {
     "data": {
      "text/html": [
       "<html>\\(\\displaystyle 2 \\, y^{2} + 1\\)</html>"
      ],
      "text/latex": [
       "$\\displaystyle 2 \\, y^{2} + 1$"
      ],
      "text/plain": [
       "2*y^2 + 1"
      ]
     },
     "execution_count": 24,
     "metadata": {},
     "output_type": "execute_result"
    }
   ],
   "source": [
    "f.substitute(x^3 == y^2, z==1)"
   ]
  },
  {
   "cell_type": "markdown",
   "id": "f7d4f9fa",
   "metadata": {},
   "source": [
    "## Transforming expressions"
   ]
  },
  {
   "cell_type": "code",
   "execution_count": 25,
   "id": "6195bfb6",
   "metadata": {},
   "outputs": [],
   "source": [
    "reset()"
   ]
  },
  {
   "cell_type": "code",
   "execution_count": 26,
   "id": "2fd7f32b",
   "metadata": {},
   "outputs": [],
   "source": [
    "x, y = SR.var('x, y')"
   ]
  },
  {
   "cell_type": "code",
   "execution_count": 27,
   "id": "ae6d899d",
   "metadata": {},
   "outputs": [
    {
     "data": {
      "text/html": [
       "<html>\\(\\displaystyle {\\left(x + y\\right)} {\\left(x + 1\\right)}^{2}\\)</html>"
      ],
      "text/latex": [
       "$\\displaystyle {\\left(x + y\\right)} {\\left(x + 1\\right)}^{2}$"
      ],
      "text/plain": [
       "(x + y)*(x + 1)^2"
      ]
     },
     "execution_count": 27,
     "metadata": {},
     "output_type": "execute_result"
    }
   ],
   "source": [
    "p = (x+y)*(x+1)^2\n",
    "p"
   ]
  },
  {
   "cell_type": "code",
   "execution_count": 28,
   "id": "b556efa6",
   "metadata": {},
   "outputs": [
    {
     "data": {
      "text/html": [
       "<html>\\(\\displaystyle x^{3} + x^{2} y + 2 \\, x^{2} + 2 \\, x y + x + y\\)</html>"
      ],
      "text/latex": [
       "$\\displaystyle x^{3} + x^{2} y + 2 \\, x^{2} + 2 \\, x y + x + y$"
      ],
      "text/plain": [
       "x^3 + x^2*y + 2*x^2 + 2*x*y + x + y"
      ]
     },
     "execution_count": 28,
     "metadata": {},
     "output_type": "execute_result"
    }
   ],
   "source": [
    "p2 = p.expand()\n",
    "p2"
   ]
  },
  {
   "cell_type": "code",
   "execution_count": 29,
   "id": "99857302",
   "metadata": {},
   "outputs": [
    {
     "data": {
      "text/html": [
       "<html>\\(\\displaystyle x^{3} + x^{2} {\\left(y + 2\\right)} + x {\\left(2 \\, y + 1\\right)} + y\\)</html>"
      ],
      "text/latex": [
       "$\\displaystyle x^{3} + x^{2} {\\left(y + 2\\right)} + x {\\left(2 \\, y + 1\\right)} + y$"
      ],
      "text/plain": [
       "x^3 + x^2*(y + 2) + x*(2*y + 1) + y"
      ]
     },
     "execution_count": 29,
     "metadata": {},
     "output_type": "execute_result"
    }
   ],
   "source": [
    "p2.collect(x)"
   ]
  },
  {
   "cell_type": "code",
   "execution_count": 30,
   "id": "6c7c2f37",
   "metadata": {},
   "outputs": [
    {
     "data": {
      "text/html": [
       "<html>\\(\\displaystyle {\\left(x + y + \\sin\\left(x\\right)\\right)}^{2}\\)</html>"
      ],
      "text/latex": [
       "$\\displaystyle {\\left(x + y + \\sin\\left(x\\right)\\right)}^{2}$"
      ],
      "text/plain": [
       "(x + y + sin(x))^2"
      ]
     },
     "execution_count": 30,
     "metadata": {},
     "output_type": "execute_result"
    }
   ],
   "source": [
    "expr = (x + y + sin(x))^2\n",
    "expr"
   ]
  },
  {
   "cell_type": "code",
   "execution_count": 32,
   "id": "9d7c29f0",
   "metadata": {},
   "outputs": [
    {
     "data": {
      "text/html": [
       "<html>\\(\\displaystyle x^{2} + 2 \\, x y + y^{2} + 2 \\, x \\sin\\left(x\\right) + 2 \\, y \\sin\\left(x\\right) + \\sin\\left(x\\right)^{2}\\)</html>"
      ],
      "text/latex": [
       "$\\displaystyle x^{2} + 2 \\, x y + y^{2} + 2 \\, x \\sin\\left(x\\right) + 2 \\, y \\sin\\left(x\\right) + \\sin\\left(x\\right)^{2}$"
      ],
      "text/plain": [
       "x^2 + 2*x*y + y^2 + 2*x*sin(x) + 2*y*sin(x) + sin(x)^2"
      ]
     },
     "execution_count": 32,
     "metadata": {},
     "output_type": "execute_result"
    }
   ],
   "source": [
    "expr = expr.expand()\n",
    "expr"
   ]
  },
  {
   "cell_type": "code",
   "execution_count": 33,
   "id": "ac2319b1",
   "metadata": {},
   "outputs": [
    {
     "data": {
      "text/html": [
       "<html>\\(\\displaystyle x^{2} + 2 \\, x y + y^{2} + 2 \\, {\\left(x + y\\right)} \\sin\\left(x\\right) + \\sin\\left(x\\right)^{2}\\)</html>"
      ],
      "text/latex": [
       "$\\displaystyle x^{2} + 2 \\, x y + y^{2} + 2 \\, {\\left(x + y\\right)} \\sin\\left(x\\right) + \\sin\\left(x\\right)^{2}$"
      ],
      "text/plain": [
       "x^2 + 2*x*y + y^2 + 2*(x + y)*sin(x) + sin(x)^2"
      ]
     },
     "execution_count": 33,
     "metadata": {},
     "output_type": "execute_result"
    }
   ],
   "source": [
    "expr.collect(sin(x))"
   ]
  },
  {
   "cell_type": "markdown",
   "id": "a8ba0190",
   "metadata": {},
   "source": [
    "## Symbolic functions"
   ]
  },
  {
   "cell_type": "code",
   "execution_count": 34,
   "id": "40a3607c",
   "metadata": {},
   "outputs": [
    {
     "data": {
      "text/html": [
       "<html>\\(\\displaystyle x \\ {\\mapsto}\\ {\\left(2 \\, x + 1\\right)}^{3}\\)</html>"
      ],
      "text/latex": [
       "$\\displaystyle x \\ {\\mapsto}\\ {\\left(2 \\, x + 1\\right)}^{3}$"
      ],
      "text/plain": [
       "x |--> (2*x + 1)^3"
      ]
     },
     "execution_count": 34,
     "metadata": {},
     "output_type": "execute_result"
    }
   ],
   "source": [
    "f(x) = (2*x + 1)^3\n",
    "f"
   ]
  },
  {
   "cell_type": "code",
   "execution_count": 35,
   "id": "f7d5d026",
   "metadata": {},
   "outputs": [
    {
     "data": {
      "text/html": [
       "<html>\\(\\displaystyle -125\\)</html>"
      ],
      "text/latex": [
       "$\\displaystyle -125$"
      ],
      "text/plain": [
       "-125"
      ]
     },
     "execution_count": 35,
     "metadata": {},
     "output_type": "execute_result"
    }
   ],
   "source": [
    "f(-3)"
   ]
  },
  {
   "cell_type": "code",
   "execution_count": 36,
   "id": "c2c53c68",
   "metadata": {},
   "outputs": [
    {
     "data": {
      "text/html": [
       "<html>\\(\\displaystyle x \\ {\\mapsto}\\ 8 \\, x^{3} + 12 \\, x^{2} + 6 \\, x + 1\\)</html>"
      ],
      "text/latex": [
       "$\\displaystyle x \\ {\\mapsto}\\ 8 \\, x^{3} + 12 \\, x^{2} + 6 \\, x + 1$"
      ],
      "text/plain": [
       "x |--> 8*x^3 + 12*x^2 + 6*x + 1"
      ]
     },
     "execution_count": 36,
     "metadata": {},
     "output_type": "execute_result"
    }
   ],
   "source": [
    "f.expand()"
   ]
  },
  {
   "cell_type": "code",
   "execution_count": 37,
   "id": "4303c603",
   "metadata": {},
   "outputs": [],
   "source": [
    "x, y = var('x, y')"
   ]
  },
  {
   "cell_type": "code",
   "execution_count": 39,
   "id": "7682dde1",
   "metadata": {},
   "outputs": [
    {
     "data": {
      "text/html": [
       "<html>\\(\\displaystyle x \\cos\\left(y\\right) + \\sin\\left(x\\right)\\)</html>"
      ],
      "text/latex": [
       "$\\displaystyle x \\cos\\left(y\\right) + \\sin\\left(x\\right)$"
      ],
      "text/plain": [
       "x*cos(y) + sin(x)"
      ]
     },
     "execution_count": 39,
     "metadata": {},
     "output_type": "execute_result"
    }
   ],
   "source": [
    "u = sin(x) + x*cos(y)\n",
    "u"
   ]
  },
  {
   "cell_type": "code",
   "execution_count": 40,
   "id": "f081655d",
   "metadata": {},
   "outputs": [
    {
     "data": {
      "text/html": [
       "<html>\\(\\displaystyle \\left( x, y \\right) \\ {\\mapsto} \\ x \\cos\\left(y\\right) + \\sin\\left(x\\right)\\)</html>"
      ],
      "text/latex": [
       "$\\displaystyle \\left( x, y \\right) \\ {\\mapsto} \\ x \\cos\\left(y\\right) + \\sin\\left(x\\right)$"
      ],
      "text/plain": [
       "(x, y) |--> x*cos(y) + sin(x)"
      ]
     },
     "execution_count": 40,
     "metadata": {},
     "output_type": "execute_result"
    }
   ],
   "source": [
    "v = u.function(x,y)\n",
    "v"
   ]
  },
  {
   "cell_type": "code",
   "execution_count": 43,
   "id": "559d097d",
   "metadata": {},
   "outputs": [
    {
     "data": {
      "text/html": [
       "<html>\\(\\displaystyle -\\pi\\)</html>"
      ],
      "text/latex": [
       "$\\displaystyle -\\pi$"
      ],
      "text/plain": [
       "-pi"
      ]
     },
     "execution_count": 43,
     "metadata": {},
     "output_type": "execute_result"
    }
   ],
   "source": [
    "v(pi,3*pi)"
   ]
  },
  {
   "cell_type": "markdown",
   "id": "2671fa3e",
   "metadata": {},
   "source": [
    "## Usual math functions"
   ]
  },
  {
   "cell_type": "code",
   "execution_count": 44,
   "id": "8f382c27",
   "metadata": {},
   "outputs": [
    {
     "data": {
      "text/html": [
       "<html>\\(\\displaystyle \\frac{x^{x}}{x}\\)</html>"
      ],
      "text/latex": [
       "$\\displaystyle \\frac{x^{x}}{x}$"
      ],
      "text/plain": [
       "x^x/x"
      ]
     },
     "execution_count": 44,
     "metadata": {},
     "output_type": "execute_result"
    }
   ],
   "source": [
    "expr = x^x /x\n",
    "expr"
   ]
  },
  {
   "cell_type": "code",
   "execution_count": 45,
   "id": "73493ede",
   "metadata": {},
   "outputs": [
    {
     "data": {
      "text/html": [
       "<html>\\(\\displaystyle x^{x - 1}\\)</html>"
      ],
      "text/latex": [
       "$\\displaystyle x^{x - 1}$"
      ],
      "text/plain": [
       "x^(x - 1)"
      ]
     },
     "execution_count": 45,
     "metadata": {},
     "output_type": "execute_result"
    }
   ],
   "source": [
    "expr.simplify()"
   ]
  },
  {
   "cell_type": "code",
   "execution_count": 46,
   "id": "25dad29e",
   "metadata": {},
   "outputs": [
    {
     "data": {
      "text/html": [
       "<html>\\(\\displaystyle \\frac{e^{x} - 1}{e^{\\left(\\frac{1}{2} \\, x\\right)} + 1}\\)</html>"
      ],
      "text/latex": [
       "$\\displaystyle \\frac{e^{x} - 1}{e^{\\left(\\frac{1}{2} \\, x\\right)} + 1}$"
      ],
      "text/plain": [
       "(e^x - 1)/(e^(1/2*x) + 1)"
      ]
     },
     "execution_count": 46,
     "metadata": {},
     "output_type": "execute_result"
    }
   ],
   "source": [
    "f = (e^x-1) / (1 + e^(x/2))\n",
    "f"
   ]
  },
  {
   "cell_type": "code",
   "execution_count": 47,
   "id": "2bffe6bb",
   "metadata": {},
   "outputs": [
    {
     "data": {
      "text/html": [
       "<html>\\(\\displaystyle e^{\\left(\\frac{1}{2} \\, x\\right)} - 1\\)</html>"
      ],
      "text/latex": [
       "$\\displaystyle e^{\\left(\\frac{1}{2} \\, x\\right)} - 1$"
      ],
      "text/plain": [
       "e^(1/2*x) - 1"
      ]
     },
     "execution_count": 47,
     "metadata": {},
     "output_type": "execute_result"
    }
   ],
   "source": [
    "f.canonicalize_radical()"
   ]
  },
  {
   "cell_type": "code",
   "execution_count": 48,
   "id": "3f2bb564",
   "metadata": {},
   "outputs": [
    {
     "data": {
      "text/html": [
       "<html>\\(\\displaystyle \\cos\\left(x\\right)^{6} + \\sin\\left(x\\right)^{6} + 3 \\, \\cos\\left(x\\right)^{2} \\sin\\left(x\\right)^{2}\\)</html>"
      ],
      "text/latex": [
       "$\\displaystyle \\cos\\left(x\\right)^{6} + \\sin\\left(x\\right)^{6} + 3 \\, \\cos\\left(x\\right)^{2} \\sin\\left(x\\right)^{2}$"
      ],
      "text/plain": [
       "cos(x)^6 + sin(x)^6 + 3*cos(x)^2*sin(x)^2"
      ]
     },
     "execution_count": 48,
     "metadata": {},
     "output_type": "execute_result"
    }
   ],
   "source": [
    "f = cos(x)^6 + sin(x)^6 + 3*sin(x)^2 * cos(x)^2\n",
    "f"
   ]
  },
  {
   "cell_type": "code",
   "execution_count": 50,
   "id": "45f634fb",
   "metadata": {},
   "outputs": [
    {
     "data": {
      "text/html": [
       "<html>\\(\\displaystyle 1\\)</html>"
      ],
      "text/latex": [
       "$\\displaystyle 1$"
      ],
      "text/plain": [
       "1"
      ]
     },
     "execution_count": 50,
     "metadata": {},
     "output_type": "execute_result"
    }
   ],
   "source": [
    "f.simplify_trig()"
   ]
  },
  {
   "cell_type": "code",
   "execution_count": 54,
   "id": "d880935c",
   "metadata": {},
   "outputs": [
    {
     "data": {
      "text/html": [
       "<html>\\(\\displaystyle 1\\)</html>"
      ],
      "text/latex": [
       "$\\displaystyle 1$"
      ],
      "text/plain": [
       "1"
      ]
     },
     "execution_count": 54,
     "metadata": {},
     "output_type": "execute_result"
    }
   ],
   "source": [
    "f = (sin(x))^2 + (cos(x))^2\n",
    "f.function(x)\n",
    "f.simplify_trig()"
   ]
  },
  {
   "cell_type": "code",
   "execution_count": 55,
   "id": "af6d8732",
   "metadata": {},
   "outputs": [
    {
     "data": {
      "text/html": [
       "<html>\\(\\displaystyle \\cos\\left(x\\right)^{6}\\)</html>"
      ],
      "text/latex": [
       "$\\displaystyle \\cos\\left(x\\right)^{6}$"
      ],
      "text/plain": [
       "cos(x)^6"
      ]
     },
     "execution_count": 55,
     "metadata": {},
     "output_type": "execute_result"
    }
   ],
   "source": [
    "f = cos(x)^6\n",
    "f"
   ]
  },
  {
   "cell_type": "code",
   "execution_count": 56,
   "id": "3e4f5228",
   "metadata": {},
   "outputs": [
    {
     "data": {
      "text/html": [
       "<html>\\(\\displaystyle \\frac{1}{32} \\, \\cos\\left(6 \\, x\\right) + \\frac{3}{16} \\, \\cos\\left(4 \\, x\\right) + \\frac{15}{32} \\, \\cos\\left(2 \\, x\\right) + \\frac{5}{16}\\)</html>"
      ],
      "text/latex": [
       "$\\displaystyle \\frac{1}{32} \\, \\cos\\left(6 \\, x\\right) + \\frac{3}{16} \\, \\cos\\left(4 \\, x\\right) + \\frac{15}{32} \\, \\cos\\left(2 \\, x\\right) + \\frac{5}{16}$"
      ],
      "text/plain": [
       "1/32*cos(6*x) + 3/16*cos(4*x) + 15/32*cos(2*x) + 5/16"
      ]
     },
     "execution_count": 56,
     "metadata": {},
     "output_type": "execute_result"
    }
   ],
   "source": [
    "f.reduce_trig()"
   ]
  },
  {
   "cell_type": "code",
   "execution_count": 57,
   "id": "8c97ab0f",
   "metadata": {},
   "outputs": [
    {
     "data": {
      "text/html": [
       "<html>\\(\\displaystyle \\sin\\left(5 \\, x\\right)\\)</html>"
      ],
      "text/latex": [
       "$\\displaystyle \\sin\\left(5 \\, x\\right)$"
      ],
      "text/plain": [
       "sin(5*x)"
      ]
     },
     "execution_count": 57,
     "metadata": {},
     "output_type": "execute_result"
    }
   ],
   "source": [
    "f = sin(5*x)\n",
    "f"
   ]
  },
  {
   "cell_type": "code",
   "execution_count": 58,
   "id": "4a74f2d7",
   "metadata": {},
   "outputs": [
    {
     "data": {
      "text/html": [
       "<html>\\(\\displaystyle 5 \\, \\cos\\left(x\\right)^{4} \\sin\\left(x\\right) - 10 \\, \\cos\\left(x\\right)^{2} \\sin\\left(x\\right)^{3} + \\sin\\left(x\\right)^{5}\\)</html>"
      ],
      "text/latex": [
       "$\\displaystyle 5 \\, \\cos\\left(x\\right)^{4} \\sin\\left(x\\right) - 10 \\, \\cos\\left(x\\right)^{2} \\sin\\left(x\\right)^{3} + \\sin\\left(x\\right)^{5}$"
      ],
      "text/plain": [
       "5*cos(x)^4*sin(x) - 10*cos(x)^2*sin(x)^3 + sin(x)^5"
      ]
     },
     "execution_count": 58,
     "metadata": {},
     "output_type": "execute_result"
    }
   ],
   "source": [
    "f.expand_trig()"
   ]
  },
  {
   "cell_type": "code",
   "execution_count": 61,
   "id": "96f803fa",
   "metadata": {},
   "outputs": [
    {
     "data": {
      "text/html": [
       "<html>\\(\\displaystyle \\frac{\\left(n + 1\\right)!}{n!}\\)</html>"
      ],
      "text/latex": [
       "$\\displaystyle \\frac{\\left(n + 1\\right)!}{n!}$"
      ],
      "text/plain": [
       "factorial(n + 1)/factorial(n)"
      ]
     },
     "execution_count": 61,
     "metadata": {},
     "output_type": "execute_result"
    }
   ],
   "source": [
    "n = var('n')\n",
    "f = factorial(n+1) / factorial(n)\n",
    "f"
   ]
  },
  {
   "cell_type": "code",
   "execution_count": 63,
   "id": "3f253606",
   "metadata": {},
   "outputs": [
    {
     "data": {
      "text/html": [
       "<html>\\(\\displaystyle n + 1\\)</html>"
      ],
      "text/latex": [
       "$\\displaystyle n + 1$"
      ],
      "text/plain": [
       "n + 1"
      ]
     },
     "execution_count": 63,
     "metadata": {},
     "output_type": "execute_result"
    }
   ],
   "source": [
    "f.simplify_full()"
   ]
  },
  {
   "cell_type": "code",
   "execution_count": 64,
   "id": "37656795",
   "metadata": {},
   "outputs": [
    {
     "data": {
      "text/html": [
       "<html>\\(\\displaystyle {\\left| x \\right|}\\)</html>"
      ],
      "text/latex": [
       "$\\displaystyle {\\left| x \\right|}$"
      ],
      "text/plain": [
       "abs(x)"
      ]
     },
     "execution_count": 64,
     "metadata": {},
     "output_type": "execute_result"
    }
   ],
   "source": [
    "f = sqrt(abs(x)^2)\n",
    "f"
   ]
  },
  {
   "cell_type": "code",
   "execution_count": 66,
   "id": "5395894f",
   "metadata": {},
   "outputs": [
    {
     "data": {
      "text/html": [
       "<html>\\(\\displaystyle \\log\\left(x y\\right)\\)</html>"
      ],
      "text/latex": [
       "$\\displaystyle \\log\\left(x y\\right)$"
      ],
      "text/plain": [
       "log(x*y)"
      ]
     },
     "execution_count": 66,
     "metadata": {},
     "output_type": "execute_result"
    }
   ],
   "source": [
    "f = log(x*y)\n",
    "f"
   ]
  },
  {
   "cell_type": "code",
   "execution_count": 67,
   "id": "63ed1130",
   "metadata": {},
   "outputs": [
    {
     "data": {
      "text/html": [
       "<html>\\(\\displaystyle \\log\\left(x\\right) + \\log\\left(y\\right)\\)</html>"
      ],
      "text/latex": [
       "$\\displaystyle \\log\\left(x\\right) + \\log\\left(y\\right)$"
      ],
      "text/plain": [
       "log(x) + log(y)"
      ]
     },
     "execution_count": 67,
     "metadata": {},
     "output_type": "execute_result"
    }
   ],
   "source": [
    "f.canonicalize_radical()"
   ]
  },
  {
   "cell_type": "markdown",
   "id": "c8b0b2a7",
   "metadata": {},
   "source": [
    "### Assumptions"
   ]
  },
  {
   "cell_type": "code",
   "execution_count": 69,
   "id": "01cc2f4f",
   "metadata": {},
   "outputs": [
    {
     "data": {
      "text/html": [
       "<html>\\(\\displaystyle \\mathrm{True}\\)</html>"
      ],
      "text/latex": [
       "$\\displaystyle \\mathrm{True}$"
      ],
      "text/plain": [
       "True"
      ]
     },
     "execution_count": 69,
     "metadata": {},
     "output_type": "execute_result"
    }
   ],
   "source": [
    "assume(x > 0)\n",
    "bool(sqrt(x^2) == x)"
   ]
  },
  {
   "cell_type": "code",
   "execution_count": 70,
   "id": "222b4b75",
   "metadata": {},
   "outputs": [
    {
     "data": {
      "text/html": [
       "<html>\\(\\displaystyle \\mathrm{False}\\)</html>"
      ],
      "text/latex": [
       "$\\displaystyle \\mathrm{False}$"
      ],
      "text/plain": [
       "False"
      ]
     },
     "execution_count": 70,
     "metadata": {},
     "output_type": "execute_result"
    }
   ],
   "source": [
    "forget(x > 0)\n",
    "bool(sqrt(x^2) == x)"
   ]
  },
  {
   "cell_type": "code",
   "execution_count": 71,
   "id": "91a5924e",
   "metadata": {},
   "outputs": [
    {
     "data": {
      "text/html": [
       "<html>\\(\\displaystyle 0\\)</html>"
      ],
      "text/latex": [
       "$\\displaystyle 0$"
      ],
      "text/plain": [
       "0"
      ]
     },
     "execution_count": 71,
     "metadata": {},
     "output_type": "execute_result"
    }
   ],
   "source": [
    "n = var('n')\n",
    "assume(n, 'integer')\n",
    "sin(n*pi)"
   ]
  },
  {
   "cell_type": "markdown",
   "id": "c206ade0",
   "metadata": {},
   "source": [
    "## Some pitfalls"
   ]
  },
  {
   "cell_type": "code",
   "execution_count": null,
   "id": "89961640",
   "metadata": {},
   "outputs": [],
   "source": []
  }
 ],
 "metadata": {
  "kernelspec": {
   "display_name": "SageMath 9.7",
   "language": "sage",
   "name": "sagemath"
  },
  "language_info": {
   "codemirror_mode": {
    "name": "ipython",
    "version": 3
   },
   "file_extension": ".py",
   "mimetype": "text/x-python",
   "name": "python",
   "nbconvert_exporter": "python",
   "pygments_lexer": "ipython3",
   "version": "3.10.8"
  }
 },
 "nbformat": 4,
 "nbformat_minor": 5
}
