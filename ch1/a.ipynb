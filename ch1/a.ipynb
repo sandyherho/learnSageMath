{
 "cells": [
  {
   "cell_type": "markdown",
   "id": "5965c169",
   "metadata": {},
   "source": [
    "# 1st computation"
   ]
  },
  {
   "cell_type": "code",
   "execution_count": 1,
   "id": "6551aace",
   "metadata": {},
   "outputs": [
    {
     "data": {
      "text/plain": [
       "2"
      ]
     },
     "execution_count": 1,
     "metadata": {},
     "output_type": "execute_result"
    }
   ],
   "source": [
    "1+1"
   ]
  },
  {
   "cell_type": "code",
   "execution_count": 2,
   "id": "c1d8d566",
   "metadata": {},
   "outputs": [
    {
     "data": {
      "text/plain": [
       "34"
      ]
     },
     "execution_count": 2,
     "metadata": {},
     "output_type": "execute_result"
    }
   ],
   "source": [
    "(1 + 2 * (3+5)) * 2"
   ]
  },
  {
   "cell_type": "code",
   "execution_count": 3,
   "id": "072b850e",
   "metadata": {},
   "outputs": [
    {
     "data": {
      "text/plain": [
       "8"
      ]
     },
     "execution_count": 3,
     "metadata": {},
     "output_type": "execute_result"
    }
   ],
   "source": [
    "2^3"
   ]
  },
  {
   "cell_type": "code",
   "execution_count": 4,
   "id": "91b02d2f",
   "metadata": {},
   "outputs": [
    {
     "data": {
      "text/plain": [
       "8"
      ]
     },
     "execution_count": 4,
     "metadata": {},
     "output_type": "execute_result"
    }
   ],
   "source": [
    "2**3"
   ]
  },
  {
   "cell_type": "code",
   "execution_count": 5,
   "id": "ec04817d",
   "metadata": {},
   "outputs": [
    {
     "data": {
      "text/plain": [
       "10/3"
      ]
     },
     "execution_count": 5,
     "metadata": {},
     "output_type": "execute_result"
    }
   ],
   "source": [
    "20 / 6"
   ]
  },
  {
   "cell_type": "code",
   "execution_count": 6,
   "id": "1ab99c68",
   "metadata": {},
   "outputs": [
    {
     "data": {
      "text/plain": [
       "1024"
      ]
     },
     "execution_count": 6,
     "metadata": {},
     "output_type": "execute_result"
    }
   ],
   "source": [
    "2^10"
   ]
  },
  {
   "cell_type": "code",
   "execution_count": 7,
   "id": "1ab314ef",
   "metadata": {},
   "outputs": [
    {
     "data": {
      "text/plain": [
       "1267650600228229401496703205376"
      ]
     },
     "execution_count": 7,
     "metadata": {},
     "output_type": "execute_result"
    }
   ],
   "source": [
    "2^100"
   ]
  },
  {
   "cell_type": "code",
   "execution_count": 8,
   "id": "8b145927",
   "metadata": {},
   "outputs": [
    {
     "data": {
      "text/plain": [
       "10715086071862673209484250490600018105614048117055336074437503883703510511249361224931983788156958581275946729175531468251871452856923140435984577574698574803934567774824230985421074605062371141877954182153046474983581941267398767559165543946077062914571196477686542167660429831652624386837205668069376"
      ]
     },
     "execution_count": 8,
     "metadata": {},
     "output_type": "execute_result"
    }
   ],
   "source": [
    "2^1000"
   ]
  },
  {
   "cell_type": "code",
   "execution_count": 9,
   "id": "421bf546",
   "metadata": {},
   "outputs": [
    {
     "data": {
      "text/plain": [
       "1.42857142857143"
      ]
     },
     "execution_count": 9,
     "metadata": {},
     "output_type": "execute_result"
    }
   ],
   "source": [
    "20.0 / 14"
   ]
  },
  {
   "cell_type": "code",
   "execution_count": 10,
   "id": "2976c952",
   "metadata": {},
   "outputs": [
    {
     "data": {
      "text/plain": [
       "1.42857142857143"
      ]
     },
     "execution_count": 10,
     "metadata": {},
     "output_type": "execute_result"
    }
   ],
   "source": [
    "numerical_approx(20/14)"
   ]
  },
  {
   "cell_type": "code",
   "execution_count": 11,
   "id": "b7433b38",
   "metadata": {},
   "outputs": [
    {
     "data": {
      "text/plain": [
       "1.07150860718627e301"
      ]
     },
     "execution_count": 11,
     "metadata": {},
     "output_type": "execute_result"
    }
   ],
   "source": [
    "numerical_approx(2^1000)"
   ]
  },
  {
   "cell_type": "code",
   "execution_count": 12,
   "id": "60915785",
   "metadata": {},
   "outputs": [
    {
     "data": {
      "text/plain": [
       "1.42857142857142857142857142857142857142857142857142857142857"
      ]
     },
     "execution_count": 12,
     "metadata": {},
     "output_type": "execute_result"
    }
   ],
   "source": [
    "numerical_approx(20/14, digits=60)"
   ]
  },
  {
   "cell_type": "code",
   "execution_count": 13,
   "id": "c9a04d65",
   "metadata": {},
   "outputs": [
    {
     "data": {
      "text/plain": [
       "3"
      ]
     },
     "execution_count": 13,
     "metadata": {},
     "output_type": "execute_result"
    }
   ],
   "source": [
    "20 // 6"
   ]
  },
  {
   "cell_type": "code",
   "execution_count": 14,
   "id": "87282216",
   "metadata": {},
   "outputs": [
    {
     "data": {
      "text/plain": [
       "2"
      ]
     },
     "execution_count": 14,
     "metadata": {},
     "output_type": "execute_result"
    }
   ],
   "source": [
    "20 % 6"
   ]
  },
  {
   "cell_type": "code",
   "execution_count": 15,
   "id": "33b5466c",
   "metadata": {},
   "outputs": [
    {
     "data": {
      "text/plain": [
       "3628800"
      ]
     },
     "execution_count": 15,
     "metadata": {},
     "output_type": "execute_result"
    }
   ],
   "source": [
    "factorial(10)"
   ]
  },
  {
   "cell_type": "code",
   "execution_count": 16,
   "id": "5fe746c4",
   "metadata": {},
   "outputs": [
    {
     "data": {
      "text/plain": [
       "3628800"
      ]
     },
     "execution_count": 16,
     "metadata": {},
     "output_type": "execute_result"
    }
   ],
   "source": [
    "10 * 9 * 8 * 7 * 6 * 5 * 4 * 3 * 2 * 1"
   ]
  },
  {
   "cell_type": "code",
   "execution_count": 17,
   "id": "b6f8ab17",
   "metadata": {},
   "outputs": [
    {
     "data": {
      "text/plain": [
       "641 * 6700417"
      ]
     },
     "execution_count": 17,
     "metadata": {},
     "output_type": "execute_result"
    }
   ],
   "source": [
    "# decompose integer into prime factors\n",
    "factor(2^(2^5) + 1)"
   ]
  },
  {
   "cell_type": "markdown",
   "id": "db6dc1cb",
   "metadata": {},
   "source": [
    "# Elementary functions and usual constants"
   ]
  },
  {
   "cell_type": "code",
   "execution_count": 18,
   "id": "3a36db25",
   "metadata": {},
   "outputs": [
    {
     "data": {
      "text/plain": [
       "0"
      ]
     },
     "execution_count": 18,
     "metadata": {},
     "output_type": "execute_result"
    }
   ],
   "source": [
    "sin(pi)"
   ]
  },
  {
   "cell_type": "code",
   "execution_count": 21,
   "id": "d929a85b",
   "metadata": {},
   "outputs": [
    {
     "data": {
      "text/plain": [
       "sqrt(3)"
      ]
     },
     "execution_count": 21,
     "metadata": {},
     "output_type": "execute_result"
    }
   ],
   "source": [
    "tan(pi/3)"
   ]
  },
  {
   "cell_type": "code",
   "execution_count": 22,
   "id": "8bf2ed69",
   "metadata": {},
   "outputs": [
    {
     "data": {
      "text/plain": [
       "1/4*pi"
      ]
     },
     "execution_count": 22,
     "metadata": {},
     "output_type": "execute_result"
    }
   ],
   "source": [
    "arctan(1)"
   ]
  },
  {
   "cell_type": "code",
   "execution_count": 23,
   "id": "b266ab4b",
   "metadata": {},
   "outputs": [
    {
     "data": {
      "text/plain": [
       "1"
      ]
     },
     "execution_count": 23,
     "metadata": {},
     "output_type": "execute_result"
    }
   ],
   "source": [
    "exp(2*I * pi)"
   ]
  },
  {
   "cell_type": "code",
   "execution_count": 24,
   "id": "85ceec01",
   "metadata": {},
   "outputs": [
    {
     "data": {
      "text/plain": [
       "arccos(1/2*sqrt(3))"
      ]
     },
     "execution_count": 24,
     "metadata": {},
     "output_type": "execute_result"
    }
   ],
   "source": [
    "arccos(sin(pi/3))"
   ]
  },
  {
   "cell_type": "code",
   "execution_count": 25,
   "id": "73c834b2",
   "metadata": {},
   "outputs": [
    {
     "data": {
      "text/plain": [
       "sqrt(2)"
      ]
     },
     "execution_count": 25,
     "metadata": {},
     "output_type": "execute_result"
    }
   ],
   "source": [
    "sqrt(2)"
   ]
  },
  {
   "cell_type": "code",
   "execution_count": 26,
   "id": "6d64b248",
   "metadata": {},
   "outputs": [
    {
     "data": {
      "text/plain": [
       "e^(1/7*I*pi)"
      ]
     },
     "execution_count": 26,
     "metadata": {},
     "output_type": "execute_result"
    }
   ],
   "source": [
    "exp(I*pi/7)"
   ]
  },
  {
   "cell_type": "code",
   "execution_count": 27,
   "id": "6251fa54",
   "metadata": {},
   "outputs": [
    {
     "data": {
      "text/plain": [
       "1/6*pi"
      ]
     },
     "execution_count": 27,
     "metadata": {},
     "output_type": "execute_result"
    }
   ],
   "source": [
    "simplify(arccos(sin(pi/3)))"
   ]
  },
  {
   "cell_type": "code",
   "execution_count": 28,
   "id": "536a2485",
   "metadata": {},
   "outputs": [
    {
     "data": {
      "text/plain": [
       "3.14159265358979323846264338327950288419716939937510582097494"
      ]
     },
     "execution_count": 28,
     "metadata": {},
     "output_type": "execute_result"
    }
   ],
   "source": [
    "numerical_approx(6*arccos(sin(pi/3)), digits=60)"
   ]
  },
  {
   "cell_type": "code",
   "execution_count": 30,
   "id": "cd3a0334",
   "metadata": {},
   "outputs": [
    {
     "data": {
      "text/plain": [
       "1.41421356237309504880168872420969807856967187537694807317668"
      ]
     },
     "execution_count": 30,
     "metadata": {},
     "output_type": "execute_result"
    }
   ],
   "source": [
    "numerical_approx(sqrt(2), digits=60)"
   ]
  },
  {
   "cell_type": "markdown",
   "id": "497058d7",
   "metadata": {},
   "source": [
    "# On-line help & autocomp."
   ]
  },
  {
   "cell_type": "code",
   "execution_count": 33,
   "id": "fcbe8ba7",
   "metadata": {},
   "outputs": [],
   "source": [
    "#sin?\n",
    "#arc TAB"
   ]
  },
  {
   "cell_type": "markdown",
   "id": "0a89e999",
   "metadata": {},
   "source": [
    "# Python variables"
   ]
  },
  {
   "cell_type": "code",
   "execution_count": 34,
   "id": "d328f7ea",
   "metadata": {},
   "outputs": [],
   "source": [
    "y = 1 + 2"
   ]
  },
  {
   "cell_type": "code",
   "execution_count": 35,
   "id": "077656c3",
   "metadata": {},
   "outputs": [
    {
     "data": {
      "text/plain": [
       "3"
      ]
     },
     "execution_count": 35,
     "metadata": {},
     "output_type": "execute_result"
    }
   ],
   "source": [
    "y"
   ]
  },
  {
   "cell_type": "code",
   "execution_count": 36,
   "id": "81e3c877",
   "metadata": {},
   "outputs": [
    {
     "data": {
      "text/plain": [
       "15"
      ]
     },
     "execution_count": 36,
     "metadata": {},
     "output_type": "execute_result"
    }
   ],
   "source": [
    "(2+y) * y"
   ]
  },
  {
   "cell_type": "code",
   "execution_count": 37,
   "id": "dcda992c",
   "metadata": {},
   "outputs": [
    {
     "data": {
      "text/plain": [
       "3"
      ]
     },
     "execution_count": 37,
     "metadata": {},
     "output_type": "execute_result"
    }
   ],
   "source": [
    "y = 1 + 2; y"
   ]
  },
  {
   "cell_type": "code",
   "execution_count": 38,
   "id": "709ca488",
   "metadata": {},
   "outputs": [
    {
     "data": {
      "text/plain": [
       "10"
      ]
     },
     "execution_count": 38,
     "metadata": {},
     "output_type": "execute_result"
    }
   ],
   "source": [
    "y = 3 * y + 1; y"
   ]
  },
  {
   "cell_type": "code",
   "execution_count": 39,
   "id": "0675040b",
   "metadata": {},
   "outputs": [
    {
     "data": {
      "text/plain": [
       "31"
      ]
     },
     "execution_count": 39,
     "metadata": {},
     "output_type": "execute_result"
    }
   ],
   "source": [
    "y = 3 * y + 1; y"
   ]
  },
  {
   "cell_type": "code",
   "execution_count": 40,
   "id": "96035af9",
   "metadata": {},
   "outputs": [
    {
     "data": {
      "text/plain": [
       "94"
      ]
     },
     "execution_count": 40,
     "metadata": {},
     "output_type": "execute_result"
    }
   ],
   "source": [
    "y = 3 * y + 1; y"
   ]
  },
  {
   "cell_type": "code",
   "execution_count": 41,
   "id": "95a6c2d3",
   "metadata": {},
   "outputs": [
    {
     "data": {
      "text/plain": [
       "2"
      ]
     },
     "execution_count": 41,
     "metadata": {},
     "output_type": "execute_result"
    }
   ],
   "source": [
    "1 + 1"
   ]
  },
  {
   "cell_type": "code",
   "execution_count": 42,
   "id": "2742b891",
   "metadata": {},
   "outputs": [
    {
     "data": {
      "text/plain": [
       "3"
      ]
     },
     "execution_count": 42,
     "metadata": {},
     "output_type": "execute_result"
    }
   ],
   "source": [
    "_ + 1"
   ]
  },
  {
   "cell_type": "code",
   "execution_count": 43,
   "id": "f888fa75",
   "metadata": {},
   "outputs": [
    {
     "data": {
      "text/plain": [
       "2"
      ]
     },
     "execution_count": 43,
     "metadata": {},
     "output_type": "execute_result"
    }
   ],
   "source": [
    "__"
   ]
  },
  {
   "cell_type": "code",
   "execution_count": 44,
   "id": "37dc4458",
   "metadata": {},
   "outputs": [],
   "source": [
    "pi = - I / 2"
   ]
  },
  {
   "cell_type": "code",
   "execution_count": 45,
   "id": "1f713e5d",
   "metadata": {},
   "outputs": [
    {
     "data": {
      "text/plain": [
       "e"
      ]
     },
     "execution_count": 45,
     "metadata": {},
     "output_type": "execute_result"
    }
   ],
   "source": [
    "exp(2*I*pi)"
   ]
  },
  {
   "cell_type": "code",
   "execution_count": 46,
   "id": "3db5ceb9",
   "metadata": {},
   "outputs": [],
   "source": [
    "from sage.all import pi"
   ]
  },
  {
   "cell_type": "code",
   "execution_count": 47,
   "id": "904ec4bd",
   "metadata": {},
   "outputs": [],
   "source": [
    "restore()"
   ]
  },
  {
   "cell_type": "code",
   "execution_count": 48,
   "id": "b50a414c",
   "metadata": {},
   "outputs": [
    {
     "data": {
      "text/plain": [
       "pi"
      ]
     },
     "execution_count": 48,
     "metadata": {},
     "output_type": "execute_result"
    }
   ],
   "source": [
    "pi"
   ]
  }
 ],
 "metadata": {
  "kernelspec": {
   "display_name": "SageMath 9.7",
   "language": "sage",
   "name": "sagemath"
  },
  "language_info": {
   "codemirror_mode": {
    "name": "ipython",
    "version": 3
   },
   "file_extension": ".py",
   "mimetype": "text/x-python",
   "name": "python",
   "nbconvert_exporter": "python",
   "pygments_lexer": "ipython3",
   "version": "3.10.8"
  }
 },
 "nbformat": 4,
 "nbformat_minor": 5
}
