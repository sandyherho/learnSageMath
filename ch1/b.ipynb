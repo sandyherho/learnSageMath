{
 "cells": [
  {
   "cell_type": "markdown",
   "id": "a81f015c",
   "metadata": {},
   "source": [
    "# Symbolic variables"
   ]
  },
  {
   "cell_type": "code",
   "execution_count": 1,
   "id": "04b28390",
   "metadata": {},
   "outputs": [],
   "source": [
    "z = SR.var('z')"
   ]
  },
  {
   "cell_type": "code",
   "execution_count": 2,
   "id": "f4d688a6",
   "metadata": {},
   "outputs": [
    {
     "data": {
      "text/plain": [
       "2*z + 3"
      ]
     },
     "execution_count": 2,
     "metadata": {},
     "output_type": "execute_result"
    }
   ],
   "source": [
    "2*z + 3"
   ]
  },
  {
   "cell_type": "code",
   "execution_count": 3,
   "id": "502f209c",
   "metadata": {},
   "outputs": [],
   "source": [
    "y = SR.var('z')"
   ]
  },
  {
   "cell_type": "code",
   "execution_count": null,
   "id": "58142f58",
   "metadata": {},
   "outputs": [],
   "source": [
    "2*y + "
   ]
  }
 ],
 "metadata": {
  "kernelspec": {
   "display_name": "SageMath 9.7",
   "language": "sage",
   "name": "sagemath"
  },
  "language_info": {
   "codemirror_mode": {
    "name": "ipython",
    "version": 3
   },
   "file_extension": ".py",
   "mimetype": "text/x-python",
   "name": "python",
   "nbconvert_exporter": "python",
   "pygments_lexer": "ipython3",
   "version": "3.10.8"
  }
 },
 "nbformat": 4,
 "nbformat_minor": 5
}
