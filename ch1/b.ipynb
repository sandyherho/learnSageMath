{
 "cells": [
  {
   "cell_type": "markdown",
   "id": "c13637bc",
   "metadata": {},
   "source": [
    "# Symbolic variables"
   ]
  },
  {
   "cell_type": "code",
   "execution_count": 37,
   "id": "15de460c",
   "metadata": {},
   "outputs": [],
   "source": [
    "%display latex\n",
    "import matplotlib.pyplot as plt\n",
    "plt.style.use('ggplot')"
   ]
  },
  {
   "cell_type": "code",
   "execution_count": 38,
   "id": "b76ecf8e",
   "metadata": {},
   "outputs": [],
   "source": [
    "z = SR.var('z')"
   ]
  },
  {
   "cell_type": "code",
   "execution_count": 39,
   "id": "99e43ce8",
   "metadata": {},
   "outputs": [
    {
     "data": {
      "text/html": [
       "<html>\\(\\displaystyle 2 \\, z + 3\\)</html>"
      ],
      "text/latex": [
       "$\\displaystyle 2 \\, z + 3$"
      ],
      "text/plain": [
       "2*z + 3"
      ]
     },
     "execution_count": 39,
     "metadata": {},
     "output_type": "execute_result"
    }
   ],
   "source": [
    "2*z + 3"
   ]
  },
  {
   "cell_type": "code",
   "execution_count": 40,
   "id": "df64da0b",
   "metadata": {},
   "outputs": [],
   "source": [
    "y = SR.var('z')"
   ]
  },
  {
   "cell_type": "code",
   "execution_count": 41,
   "id": "2155bbf0",
   "metadata": {},
   "outputs": [
    {
     "data": {
      "text/html": [
       "<html>\\(\\displaystyle 2 \\, z + 3\\)</html>"
      ],
      "text/latex": [
       "$\\displaystyle 2 \\, z + 3$"
      ],
      "text/plain": [
       "2*z + 3"
      ]
     },
     "execution_count": 41,
     "metadata": {},
     "output_type": "execute_result"
    }
   ],
   "source": [
    "2*y + 3"
   ]
  },
  {
   "cell_type": "code",
   "execution_count": 42,
   "id": "c5c9f14b",
   "metadata": {},
   "outputs": [],
   "source": [
    "c = 2*y + 3"
   ]
  },
  {
   "cell_type": "code",
   "execution_count": 43,
   "id": "c12c8656",
   "metadata": {},
   "outputs": [
    {
     "data": {
      "text/html": [
       "<html>\\(\\displaystyle 2 \\, z + 3\\)</html>"
      ],
      "text/latex": [
       "$\\displaystyle 2 \\, z + 3$"
      ],
      "text/plain": [
       "2*z + 3"
      ]
     },
     "execution_count": 43,
     "metadata": {},
     "output_type": "execute_result"
    }
   ],
   "source": [
    "z = 1\n",
    "2*y + 3"
   ]
  },
  {
   "cell_type": "code",
   "execution_count": 44,
   "id": "906f40a1",
   "metadata": {},
   "outputs": [
    {
     "data": {
      "text/html": [
       "<html>\\(\\displaystyle 2 \\, z + 3\\)</html>"
      ],
      "text/latex": [
       "$\\displaystyle 2 \\, z + 3$"
      ],
      "text/plain": [
       "2*z + 3"
      ]
     },
     "execution_count": 44,
     "metadata": {},
     "output_type": "execute_result"
    }
   ],
   "source": [
    "c"
   ]
  },
  {
   "cell_type": "code",
   "execution_count": 45,
   "id": "74297199",
   "metadata": {},
   "outputs": [],
   "source": [
    "x = SR.var('x')"
   ]
  },
  {
   "cell_type": "code",
   "execution_count": 46,
   "id": "2e317299",
   "metadata": {},
   "outputs": [
    {
     "data": {
      "text/html": [
       "<html>\\(\\displaystyle \\sin\\left(x\\right)\\)</html>"
      ],
      "text/latex": [
       "$\\displaystyle \\sin\\left(x\\right)$"
      ],
      "text/plain": [
       "sin(x)"
      ]
     },
     "execution_count": 46,
     "metadata": {},
     "output_type": "execute_result"
    }
   ],
   "source": [
    "expr = sin(x); expr"
   ]
  },
  {
   "cell_type": "code",
   "execution_count": 47,
   "id": "191e6367",
   "metadata": {},
   "outputs": [
    {
     "data": {
      "text/html": [
       "<html>\\(\\displaystyle \\sin\\left(1\\right)\\)</html>"
      ],
      "text/latex": [
       "$\\displaystyle \\sin\\left(1\\right)$"
      ],
      "text/plain": [
       "sin(1)"
      ]
     },
     "execution_count": 47,
     "metadata": {},
     "output_type": "execute_result"
    }
   ],
   "source": [
    "expr(x=1)"
   ]
  },
  {
   "cell_type": "markdown",
   "id": "c6bdf652",
   "metadata": {},
   "source": [
    "## ex1"
   ]
  },
  {
   "cell_type": "code",
   "execution_count": 48,
   "id": "5f011b0a",
   "metadata": {},
   "outputs": [
    {
     "data": {
      "text/html": [
       "<html>\\(\\displaystyle u + 2\\)</html>"
      ],
      "text/latex": [
       "$\\displaystyle u + 2$"
      ],
      "text/plain": [
       "u + 2"
      ]
     },
     "execution_count": 48,
     "metadata": {},
     "output_type": "execute_result"
    }
   ],
   "source": [
    "u = SR.var('u')\n",
    "u = u + 1\n",
    "u = u + 1\n",
    "u"
   ]
  },
  {
   "cell_type": "markdown",
   "id": "16664630",
   "metadata": {},
   "source": [
    "`x = SR.var('x', n)`"
   ]
  },
  {
   "cell_type": "code",
   "execution_count": 49,
   "id": "eafed62f",
   "metadata": {},
   "outputs": [],
   "source": [
    "x = SR.var('x', 100)"
   ]
  },
  {
   "cell_type": "code",
   "execution_count": 50,
   "id": "4151e10a",
   "metadata": {},
   "outputs": [
    {
     "data": {
      "text/html": [
       "<html>\\(\\displaystyle {\\left(x_{0} + x_{1}\\right)} x_{99}\\)</html>"
      ],
      "text/latex": [
       "$\\displaystyle {\\left(x_{0} + x_{1}\\right)} x_{99}$"
      ],
      "text/plain": [
       "(x0 + x1)*x99"
      ]
     },
     "execution_count": 50,
     "metadata": {},
     "output_type": "execute_result"
    }
   ],
   "source": [
    "(x[0] + x[1]) * x[99]"
   ]
  },
  {
   "cell_type": "code",
   "execution_count": 51,
   "id": "35df66e7",
   "metadata": {},
   "outputs": [
    {
     "data": {
      "text/html": [
       "<html>\\(\\displaystyle \\left(a, b, c, d, x, y\\right)\\)</html>"
      ],
      "text/latex": [
       "$\\displaystyle \\left(a, b, c, d, x, y\\right)$"
      ],
      "text/plain": [
       "(a, b, c, d, x, y)"
      ]
     },
     "execution_count": 51,
     "metadata": {},
     "output_type": "execute_result"
    }
   ],
   "source": [
    "var('a, b, c, d,x,y')"
   ]
  },
  {
   "cell_type": "code",
   "execution_count": 36,
   "id": "d78ccaf8",
   "metadata": {},
   "outputs": [
    {
     "data": {
      "text/html": [
       "<html>\\(\\displaystyle a x + b y + c\\)</html>"
      ],
      "text/latex": [
       "$\\displaystyle a x + b y + c$"
      ],
      "text/plain": [
       "a*x + b*y + c"
      ]
     },
     "execution_count": 36,
     "metadata": {},
     "output_type": "execute_result"
    }
   ],
   "source": [
    "a*x + b*y + c"
   ]
  },
  {
   "cell_type": "markdown",
   "id": "4954f32b",
   "metadata": {},
   "source": [
    "# 1st graphics"
   ]
  },
  {
   "cell_type": "code",
   "execution_count": 56,
   "id": "dbf71407",
   "metadata": {},
   "outputs": [
    {
     "data": {
      "image/png": "[encoded data removed]",
      "text/plain": [
       "Graphics object consisting of 1 graphics primitive"
      ]
     },
     "execution_count": 56,
     "metadata": {},
     "output_type": "execute_result"
    }
   ],
   "source": [
    "plot(sin(2*x), x, -pi, pi)"
   ]
  },
  {
   "cell_type": "code",
   "execution_count": null,
   "id": "34bd5070",
   "metadata": {},
   "outputs": [],
   "source": []
  }
 ],
 "metadata": {
  "kernelspec": {
   "display_name": "SageMath 9.7",
   "language": "sage",
   "name": "sagemath"
  },
  "language_info": {
   "codemirror_mode": {
    "name": "ipython",
    "version": 3
   },
   "file_extension": ".py",
   "mimetype": "text/x-python",
   "name": "python",
   "nbconvert_exporter": "python",
   "pygments_lexer": "ipython3",
   "version": "3.10.8"
  }
 },
 "nbformat": 4,
 "nbformat_minor": 5
}
