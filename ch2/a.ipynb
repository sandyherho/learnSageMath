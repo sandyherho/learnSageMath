{
 "cells": [
  {
   "cell_type": "code",
   "execution_count": 2,
   "id": "76434bbb",
   "metadata": {},
   "outputs": [],
   "source": [
    "%display latex\n",
    "import matplotlib.pyplot as plt\n",
    "plt.style.use('ggplot')"
   ]
  },
  {
   "cell_type": "markdown",
   "id": "bdf968fb",
   "metadata": {},
   "source": [
    "# Symbolic exp & simplifications"
   ]
  },
  {
   "cell_type": "markdown",
   "id": "997190d4",
   "metadata": {},
   "source": [
    "## Symbolc expressions"
   ]
  },
  {
   "cell_type": "code",
   "execution_count": 3,
   "id": "c5b44ca5",
   "metadata": {},
   "outputs": [
    {
     "data": {
      "text/html": [
       "<html>\\(\\displaystyle \\arctan\\left({\\left| x \\right|} + 1\\right)\\)</html>"
      ],
      "text/latex": [
       "$\\displaystyle \\arctan\\left({\\left| x \\right|} + 1\\right)$"
      ],
      "text/plain": [
       "arctan(abs(x) + 1)"
      ]
     },
     "execution_count": 3,
     "metadata": {},
     "output_type": "execute_result"
    }
   ],
   "source": [
    "expr1 = arctan(1 +abs(x))\n",
    "expr1"
   ]
  },
  {
   "cell_type": "code",
   "execution_count": 5,
   "id": "49b46f7a",
   "metadata": {},
   "outputs": [
    {
     "data": {
      "text/html": [
       "<html>\\(\\displaystyle \\frac{1}{2} \\, \\pi - \\arctan\\left(\\frac{1}{{\\left| x \\right|}}\\right)\\)</html>"
      ],
      "text/latex": [
       "$\\displaystyle \\frac{1}{2} \\, \\pi - \\arctan\\left(\\frac{1}{{\\left| x \\right|}}\\right)$"
      ],
      "text/plain": [
       "1/2*pi - arctan(1/abs(x))"
      ]
     },
     "execution_count": 5,
     "metadata": {},
     "output_type": "execute_result"
    }
   ],
   "source": [
    "expr2 = pi/2 - arctan(1 / abs(x))\n",
    "expr2"
   ]
  },
  {
   "cell_type": "code",
   "execution_count": 6,
   "id": "1ea91ce1",
   "metadata": {},
   "outputs": [
    {
     "data": {
      "text/html": [
       "<html>\\(\\displaystyle \\mathrm{False}\\)</html>"
      ],
      "text/latex": [
       "$\\displaystyle \\mathrm{False}$"
      ],
      "text/plain": [
       "False"
      ]
     },
     "execution_count": 6,
     "metadata": {},
     "output_type": "execute_result"
    }
   ],
   "source": [
    "bool(expr1 == expr2)"
   ]
  },
  {
   "cell_type": "code",
   "execution_count": 7,
   "id": "e2633e74",
   "metadata": {},
   "outputs": [],
   "source": [
    "a, x =var('a, x')"
   ]
  },
  {
   "cell_type": "code",
   "execution_count": 9,
   "id": "7c8f7cd6",
   "metadata": {},
   "outputs": [
    {
     "data": {
      "text/html": [
       "<html>\\(\\displaystyle {\\left(x + 1\\right)} \\cos\\left(a + x\\right)\\)</html>"
      ],
      "text/latex": [
       "$\\displaystyle {\\left(x + 1\\right)} \\cos\\left(a + x\\right)$"
      ],
      "text/plain": [
       "(x + 1)*cos(a + x)"
      ]
     },
     "execution_count": 9,
     "metadata": {},
     "output_type": "execute_result"
    }
   ],
   "source": [
    "y = cos(x + a) * (x + 1)\n",
    "y"
   ]
  },
  {
   "cell_type": "code",
   "execution_count": 10,
   "id": "aa478c56",
   "metadata": {},
   "outputs": [
    {
     "data": {
      "text/html": [
       "<html>\\(\\displaystyle x + 1\\)</html>"
      ],
      "text/latex": [
       "$\\displaystyle x + 1$"
      ],
      "text/plain": [
       "x + 1"
      ]
     },
     "execution_count": 10,
     "metadata": {},
     "output_type": "execute_result"
    }
   ],
   "source": [
    "y.subs(a = -x)"
   ]
  },
  {
   "cell_type": "code",
   "execution_count": 11,
   "id": "f8b73826",
   "metadata": {},
   "outputs": [
    {
     "data": {
      "text/html": [
       "<html>\\(\\displaystyle {\\left(x + 1\\right)} \\cos\\left(a + x\\right)\\)</html>"
      ],
      "text/latex": [
       "$\\displaystyle {\\left(x + 1\\right)} \\cos\\left(a + x\\right)$"
      ],
      "text/plain": [
       "(x + 1)*cos(a + x)"
      ]
     },
     "execution_count": 11,
     "metadata": {},
     "output_type": "execute_result"
    }
   ],
   "source": [
    "y"
   ]
  },
  {
   "cell_type": "code",
   "execution_count": 12,
   "id": "931349cb",
   "metadata": {},
   "outputs": [
    {
     "data": {
      "text/html": [
       "<html>\\(\\displaystyle -\\frac{1}{4} \\, \\sqrt{3} {\\left(\\pi + 2\\right)}\\)</html>"
      ],
      "text/latex": [
       "$\\displaystyle -\\frac{1}{4} \\, \\sqrt{3} {\\left(\\pi + 2\\right)}$"
      ],
      "text/plain": [
       "-1/4*sqrt(3)*(pi + 2)"
      ]
     },
     "execution_count": 12,
     "metadata": {},
     "output_type": "execute_result"
    }
   ],
   "source": [
    "y.subs(x=pi/2, a=pi/3)"
   ]
  },
  {
   "cell_type": "code",
   "execution_count": 13,
   "id": "36edac38",
   "metadata": {},
   "outputs": [
    {
     "data": {
      "text/html": [
       "<html>\\(\\displaystyle {\\left(x + 1\\right)} \\cos\\left(a + x\\right)\\)</html>"
      ],
      "text/latex": [
       "$\\displaystyle {\\left(x + 1\\right)} \\cos\\left(a + x\\right)$"
      ],
      "text/plain": [
       "(x + 1)*cos(a + x)"
      ]
     },
     "execution_count": 13,
     "metadata": {},
     "output_type": "execute_result"
    }
   ],
   "source": [
    "y"
   ]
  },
  {
   "cell_type": "code",
   "execution_count": 14,
   "id": "71ffd92b",
   "metadata": {},
   "outputs": [
    {
     "data": {
      "text/html": [
       "<html>\\(\\displaystyle -1.41333351100299\\)</html>"
      ],
      "text/latex": [
       "$\\displaystyle -1.41333351100299$"
      ],
      "text/plain": [
       "-1.41333351100299"
      ]
     },
     "execution_count": 14,
     "metadata": {},
     "output_type": "execute_result"
    }
   ],
   "source": [
    "y.subs(x=.5, a = 2.3)"
   ]
  },
  {
   "cell_type": "code",
   "execution_count": 15,
   "id": "e83efb13",
   "metadata": {},
   "outputs": [
    {
     "data": {
      "text/html": [
       "<html>\\(\\displaystyle {\\left(x + 1\\right)} \\cos\\left(a + x\\right)\\)</html>"
      ],
      "text/latex": [
       "$\\displaystyle {\\left(x + 1\\right)} \\cos\\left(a + x\\right)$"
      ],
      "text/plain": [
       "(x + 1)*cos(a + x)"
      ]
     },
     "execution_count": 15,
     "metadata": {},
     "output_type": "execute_result"
    }
   ],
   "source": [
    "y"
   ]
  },
  {
   "cell_type": "code",
   "execution_count": 16,
   "id": "a60d7b04",
   "metadata": {},
   "outputs": [
    {
     "data": {
      "text/html": [
       "<html>\\(\\displaystyle x + 1\\)</html>"
      ],
      "text/latex": [
       "$\\displaystyle x + 1$"
      ],
      "text/plain": [
       "x + 1"
      ]
     },
     "execution_count": 16,
     "metadata": {},
     "output_type": "execute_result"
    }
   ],
   "source": [
    "y(a=-x)"
   ]
  },
  {
   "cell_type": "code",
   "execution_count": 17,
   "id": "8bc59065",
   "metadata": {},
   "outputs": [
    {
     "data": {
      "text/html": [
       "<html>\\(\\displaystyle {\\left(x + 1\\right)} \\cos\\left(a + x\\right)\\)</html>"
      ],
      "text/latex": [
       "$\\displaystyle {\\left(x + 1\\right)} \\cos\\left(a + x\\right)$"
      ],
      "text/plain": [
       "(x + 1)*cos(a + x)"
      ]
     },
     "execution_count": 17,
     "metadata": {},
     "output_type": "execute_result"
    }
   ],
   "source": [
    "y"
   ]
  },
  {
   "cell_type": "code",
   "execution_count": 18,
   "id": "324841a4",
   "metadata": {},
   "outputs": [
    {
     "data": {
      "text/html": [
       "<html>\\(\\displaystyle -\\frac{1}{4} \\, \\sqrt{3} {\\left(\\pi + 2\\right)}\\)</html>"
      ],
      "text/latex": [
       "$\\displaystyle -\\frac{1}{4} \\, \\sqrt{3} {\\left(\\pi + 2\\right)}$"
      ],
      "text/plain": [
       "-1/4*sqrt(3)*(pi + 2)"
      ]
     },
     "execution_count": 18,
     "metadata": {},
     "output_type": "execute_result"
    }
   ],
   "source": [
    "y(x=pi/2, a=pi/3)"
   ]
  },
  {
   "cell_type": "code",
   "execution_count": 19,
   "id": "7851e8cb",
   "metadata": {},
   "outputs": [
    {
     "data": {
      "text/html": [
       "<html>\\(\\displaystyle -1.41333351100299\\)</html>"
      ],
      "text/latex": [
       "$\\displaystyle -1.41333351100299$"
      ],
      "text/plain": [
       "-1.41333351100299"
      ]
     },
     "execution_count": 19,
     "metadata": {},
     "output_type": "execute_result"
    }
   ],
   "source": [
    " y(x=.5, a = 2.3)"
   ]
  },
  {
   "cell_type": "code",
   "execution_count": 20,
   "id": "7925ca3d",
   "metadata": {},
   "outputs": [],
   "source": [
    "x, y, z = var('x, y, z')"
   ]
  },
  {
   "cell_type": "code",
   "execution_count": 21,
   "id": "d52a56fd",
   "metadata": {},
   "outputs": [
    {
     "data": {
      "text/html": [
       "<html>\\(\\displaystyle x y + x z + y z\\)</html>"
      ],
      "text/latex": [
       "$\\displaystyle x y + x z + y z$"
      ],
      "text/plain": [
       "x*y + x*z + y*z"
      ]
     },
     "execution_count": 21,
     "metadata": {},
     "output_type": "execute_result"
    }
   ],
   "source": [
    "q = x*y + y*z + z*x\n",
    "q"
   ]
  },
  {
   "cell_type": "code",
   "execution_count": 23,
   "id": "eb6dbb32",
   "metadata": {},
   "outputs": [
    {
     "data": {
      "text/html": [
       "<html>\\(\\displaystyle x y + x z + y z\\)</html>"
      ],
      "text/latex": [
       "$\\displaystyle x y + x z + y z$"
      ],
      "text/plain": [
       "x*y + x*z + y*z"
      ]
     },
     "execution_count": 23,
     "metadata": {},
     "output_type": "execute_result"
    }
   ],
   "source": [
    "expr1 = q(x=y, y=z, z=x)\n",
    "expr1"
   ]
  },
  {
   "cell_type": "code",
   "execution_count": 24,
   "id": "2bebe327",
   "metadata": {},
   "outputs": [
    {
     "data": {
      "text/html": [
       "<html>\\(\\displaystyle \\mathrm{True}\\)</html>"
      ],
      "text/latex": [
       "$\\displaystyle \\mathrm{True}$"
      ],
      "text/plain": [
       "True"
      ]
     },
     "execution_count": 24,
     "metadata": {},
     "output_type": "execute_result"
    }
   ],
   "source": [
    "bool(q == expr1)"
   ]
  },
  {
   "cell_type": "code",
   "execution_count": 31,
   "id": "648a5031",
   "metadata": {},
   "outputs": [
    {
     "data": {
      "text/html": [
       "<html>\\(\\displaystyle \\mathrm{False}\\)</html>"
      ],
      "text/latex": [
       "$\\displaystyle \\mathrm{False}$"
      ],
      "text/plain": [
       "False"
      ]
     },
     "execution_count": 31,
     "metadata": {},
     "output_type": "execute_result"
    }
   ],
   "source": [
    "expr2 = q(z=y, y=x)\n",
    "bool(expr2 == 3*x^2)"
   ]
  },
  {
   "cell_type": "code",
   "execution_count": 32,
   "id": "4b65f1ba",
   "metadata": {},
   "outputs": [],
   "source": [
    "y, z = var('y, z')"
   ]
  },
  {
   "cell_type": "code",
   "execution_count": 33,
   "id": "df7f4b1d",
   "metadata": {},
   "outputs": [],
   "source": [
    "f = x^3 + y^2 + z"
   ]
  },
  {
   "cell_type": "code",
   "execution_count": null,
   "id": "2d8f3826",
   "metadata": {},
   "outputs": [],
   "source": [
    "f.substitute(x^3 == y^)"
   ]
  }
 ],
 "metadata": {
  "kernelspec": {
   "display_name": "SageMath 9.7",
   "language": "sage",
   "name": "sagemath"
  },
  "language_info": {
   "codemirror_mode": {
    "name": "ipython",
    "version": 3
   },
   "file_extension": ".py",
   "mimetype": "text/x-python",
   "name": "python",
   "nbconvert_exporter": "python",
   "pygments_lexer": "ipython3",
   "version": "3.10.8"
  }
 },
 "nbformat": 4,
 "nbformat_minor": 5
}
