{
 "cells": [
  {
   "cell_type": "code",
   "execution_count": 6,
   "id": "b14506d8",
   "metadata": {},
   "outputs": [],
   "source": [
    "%display latex"
   ]
  },
  {
   "cell_type": "markdown",
   "id": "78e9eaea",
   "metadata": {},
   "source": [
    "## Equations"
   ]
  },
  {
   "cell_type": "markdown",
   "id": "73b8bf1a",
   "metadata": {},
   "source": [
    "$$\n",
    "z^2 - \\frac{2}{\\cos{\\phi}}z + \\frac{5}{\\cos^{2}{\\phi}} - 4 = 0 \\quad \\phi \\in [-\\pi/2, \\pi/2]\n",
    "$$"
   ]
  },
  {
   "cell_type": "code",
   "execution_count": 7,
   "id": "7356a4a4",
   "metadata": {},
   "outputs": [],
   "source": [
    "z, phi = var('z, phi')"
   ]
  },
  {
   "cell_type": "code",
   "execution_count": 8,
   "id": "56659059",
   "metadata": {},
   "outputs": [
    {
     "data": {
      "text/html": [
       "<html>\\(\\displaystyle z^{2} - \\frac{2 \\, z}{\\cos\\left(\\phi\\right)} + \\frac{5}{\\cos\\left(\\phi\\right)^{2}} - 4 = 0\\)</html>"
      ],
      "text/latex": [
       "$\\displaystyle z^{2} - \\frac{2 \\, z}{\\cos\\left(\\phi\\right)} + \\frac{5}{\\cos\\left(\\phi\\right)^{2}} - 4 = 0$"
      ],
      "text/plain": [
       "z^2 - 2*z/cos(phi) + 5/cos(phi)^2 - 4 == 0"
      ]
     },
     "execution_count": 8,
     "metadata": {},
     "output_type": "execute_result"
    }
   ],
   "source": [
    "eq = z^2 - 2/cos(phi) * z + 5 / cos(phi)^2 -4 == 0\n",
    "eq"
   ]
  },
  {
   "cell_type": "code",
   "execution_count": 9,
   "id": "cb9e504a",
   "metadata": {},
   "outputs": [
    {
     "data": {
      "text/html": [
       "<html>\\(\\displaystyle z^{2} - \\frac{2 \\, z}{\\cos\\left(\\phi\\right)} + \\frac{5}{\\cos\\left(\\phi\\right)^{2}} - 4\\)</html>"
      ],
      "text/latex": [
       "$\\displaystyle z^{2} - \\frac{2 \\, z}{\\cos\\left(\\phi\\right)} + \\frac{5}{\\cos\\left(\\phi\\right)^{2}} - 4$"
      ],
      "text/plain": [
       "z^2 - 2*z/cos(phi) + 5/cos(phi)^2 - 4"
      ]
     },
     "execution_count": 9,
     "metadata": {},
     "output_type": "execute_result"
    }
   ],
   "source": [
    "eq.lhs()"
   ]
  },
  {
   "cell_type": "code",
   "execution_count": 10,
   "id": "daa7e5c6",
   "metadata": {},
   "outputs": [
    {
     "data": {
      "text/html": [
       "<html>\\(\\displaystyle 0\\)</html>"
      ],
      "text/latex": [
       "$\\displaystyle 0$"
      ],
      "text/plain": [
       "0"
      ]
     },
     "execution_count": 10,
     "metadata": {},
     "output_type": "execute_result"
    }
   ],
   "source": [
    "eq.rhs()"
   ]
  },
  {
   "cell_type": "code",
   "execution_count": 11,
   "id": "329c1474",
   "metadata": {},
   "outputs": [
    {
     "data": {
      "text/html": [
       "<html>\\(\\displaystyle \\left[z = -\\frac{2 \\, \\sqrt{\\cos\\left(\\phi\\right)^{2} - 1} - 1}{\\cos\\left(\\phi\\right)}, z = \\frac{2 \\, \\sqrt{\\cos\\left(\\phi\\right)^{2} - 1} + 1}{\\cos\\left(\\phi\\right)}\\right]\\)</html>"
      ],
      "text/latex": [
       "$\\displaystyle \\left[z = -\\frac{2 \\, \\sqrt{\\cos\\left(\\phi\\right)^{2} - 1} - 1}{\\cos\\left(\\phi\\right)}, z = \\frac{2 \\, \\sqrt{\\cos\\left(\\phi\\right)^{2} - 1} + 1}{\\cos\\left(\\phi\\right)}\\right]$"
      ],
      "text/plain": [
       "[z == -(2*sqrt(cos(phi)^2 - 1) - 1)/cos(phi), z == (2*sqrt(cos(phi)^2 - 1) + 1)/cos(phi)]"
      ]
     },
     "execution_count": 11,
     "metadata": {},
     "output_type": "execute_result"
    }
   ],
   "source": [
    "solve(eq, z)"
   ]
  },
  {
   "cell_type": "markdown",
   "id": "4bfc21ad",
   "metadata": {},
   "source": [
    "$$\n",
    "y^7 = y\n",
    "$$"
   ]
  },
  {
   "cell_type": "code",
   "execution_count": 12,
   "id": "129e0e65",
   "metadata": {},
   "outputs": [
    {
     "data": {
      "text/html": [
       "<html>\\(\\displaystyle \\left[y = \\frac{1}{2} i \\, \\sqrt{3} + \\frac{1}{2}, y = \\frac{1}{2} i \\, \\sqrt{3} - \\frac{1}{2}, y = \\left(-1\\right), y = -\\frac{1}{2} i \\, \\sqrt{3} - \\frac{1}{2}, y = -\\frac{1}{2} i \\, \\sqrt{3} + \\frac{1}{2}, y = 1, y = 0\\right]\\)</html>"
      ],
      "text/latex": [
       "$\\displaystyle \\left[y = \\frac{1}{2} i \\, \\sqrt{3} + \\frac{1}{2}, y = \\frac{1}{2} i \\, \\sqrt{3} - \\frac{1}{2}, y = \\left(-1\\right), y = -\\frac{1}{2} i \\, \\sqrt{3} - \\frac{1}{2}, y = -\\frac{1}{2} i \\, \\sqrt{3} + \\frac{1}{2}, y = 1, y = 0\\right]$"
      ],
      "text/plain": [
       "[y == 1/2*I*sqrt(3) + 1/2, y == 1/2*I*sqrt(3) - 1/2, y == -1, y == -1/2*I*sqrt(3) - 1/2, y == -1/2*I*sqrt(3) + 1/2, y == 1, y == 0]"
      ]
     },
     "execution_count": 12,
     "metadata": {},
     "output_type": "execute_result"
    }
   ],
   "source": [
    "y = var('y')\n",
    "solve(y^7 == y, y)"
   ]
  },
  {
   "cell_type": "code",
   "execution_count": 13,
   "id": "e540a715",
   "metadata": {},
   "outputs": [
    {
     "data": {
      "text/html": [
       "<html>\\(\\displaystyle \\left[\\left\\{x : -1\\right\\}, \\left\\{x : 1\\right\\}\\right]\\)</html>"
      ],
      "text/latex": [
       "$\\displaystyle \\left[\\left\\{x : -1\\right\\}, \\left\\{x : 1\\right\\}\\right]$"
      ],
      "text/plain": [
       "[{x: -1}, {x: 1}]"
      ]
     },
     "execution_count": 13,
     "metadata": {},
     "output_type": "execute_result"
    }
   ],
   "source": [
    "solve(x^2 - 1, x, solution_dict=True)"
   ]
  },
  {
   "cell_type": "code",
   "execution_count": 14,
   "id": "00d2aa11",
   "metadata": {},
   "outputs": [
    {
     "data": {
      "text/html": [
       "<html>\\(\\displaystyle \\left[\\left[x = -r_{1} + 3, y = r_{1}\\right]\\right]\\)</html>"
      ],
      "text/latex": [
       "$\\displaystyle \\left[\\left[x = -r_{1} + 3, y = r_{1}\\right]\\right]$"
      ],
      "text/plain": [
       "[[x == -r1 + 3, y == r1]]"
      ]
     },
     "execution_count": 14,
     "metadata": {},
     "output_type": "execute_result"
    }
   ],
   "source": [
    "solve([x+y == 3, 2*x + 2*y ==6], x, y)"
   ]
  },
  {
   "cell_type": "code",
   "execution_count": 15,
   "id": "0eb34a9a",
   "metadata": {},
   "outputs": [
    {
     "data": {
      "text/html": [
       "<html>\\(\\displaystyle \\left[\\left[x = \\frac{1}{4} \\, \\pi + \\pi z_{1934}, y = -\\frac{1}{4} \\, \\pi - \\pi z_{1934}\\right]\\right]\\)</html>"
      ],
      "text/latex": [
       "$\\displaystyle \\left[\\left[x = \\frac{1}{4} \\, \\pi + \\pi z_{1934}, y = -\\frac{1}{4} \\, \\pi - \\pi z_{1934}\\right]\\right]$"
      ],
      "text/plain": [
       "[[x == 1/4*pi + pi*z1934, y == -1/4*pi - pi*z1934]]"
      ]
     },
     "execution_count": 15,
     "metadata": {},
     "output_type": "execute_result"
    }
   ],
   "source": [
    "solve([cos(x) * sin(x) == 1/2, x + y == 0], x, y)"
   ]
  },
  {
   "cell_type": "code",
   "execution_count": 16,
   "id": "23d1eb85",
   "metadata": {},
   "outputs": [
    {
     "data": {
      "text/html": [
       "<html>\\(\\displaystyle \\left[\\left[x &lt; -\\frac{1}{2} \\, \\sqrt{5} - \\frac{1}{2}\\right], \\left[x > \\frac{1}{2} \\, \\sqrt{5} - \\frac{1}{2}\\right]\\right]\\)</html>"
      ],
      "text/latex": [
       "$\\displaystyle \\left[\\left[x < -\\frac{1}{2} \\, \\sqrt{5} - \\frac{1}{2}\\right], \\left[x > \\frac{1}{2} \\, \\sqrt{5} - \\frac{1}{2}\\right]\\right]$"
      ],
      "text/plain": [
       "[[x < -1/2*sqrt(5) - 1/2], [x > 1/2*sqrt(5) - 1/2]]"
      ]
     },
     "execution_count": 16,
     "metadata": {},
     "output_type": "execute_result"
    }
   ],
   "source": [
    "solve(x^2 + x -1 > 0, x)"
   ]
  },
  {
   "cell_type": "markdown",
   "id": "ae6d1fc9",
   "metadata": {},
   "source": [
    "$$\n",
    "\\biggl\\{ \\begin{aligned}x^2 y z = 18,\\\\xy^3 z = 24,\\\\xyz^4 =6. \\end{aligned}\n",
    "\\\\ x,y,z \\in \\mathbb{C}^3\n",
    "$$\n",
    "\n"
   ]
  },
  {
   "cell_type": "code",
   "execution_count": 17,
   "id": "5a5006f8",
   "metadata": {},
   "outputs": [],
   "source": [
    "x,y,z = var('x,y,z')"
   ]
  },
  {
   "cell_type": "code",
   "execution_count": 18,
   "id": "0a901159",
   "metadata": {},
   "outputs": [
    {
     "data": {
      "text/html": [
       "<html>\\(\\displaystyle \\left[\\left[x = 3, y = 2, z = 1\\right], \\left[x = \\left(1.337215067329613 - 2.685489874065195i\\right), y = \\left(-1.700434271459228 + 1.052864325754712i\\right), z = \\left(0.9324722294043555 - 0.3612416661871523i\\right)\\right], \\left[x = \\left(1.337215067329613 + 2.685489874065194i\\right), y = \\left(-1.700434271459228 - 1.052864325754712i\\right), z = \\left(0.9324722294043555 + 0.3612416661871523i\\right)\\right], \\left[x = \\left(-2.550651407188846 - 1.579296488632072i\\right), y = \\left(-0.5473259801441661 + 1.923651286345638i\\right), z = \\left(-0.9829730996839015 - 0.1837495178165701i\\right)\\right], \\left[x = \\left(-2.550651407188845 + 1.57929648863207i\\right), y = \\left(-0.5473259801441662 - 1.923651286345638i\\right), z = \\left(-0.9829730996839015 + 0.1837495178165701i\\right)\\right], \\left[x = \\left(0.2768050783899189 - 2.987202528885064i\\right), y = \\left(1.478017834441328 - 1.347391287293138i\\right), z = \\left(-0.8502171357296144 - 0.526432162877356i\\right)\\right], \\left[x = \\left(0.2768050783899063 + 2.9872025288851i\\right), y = \\left(1.478017834441318 + 1.347391287293114i\\right), z = \\left(-0.8502171357296144 + 0.526432162877356i\\right)\\right], \\left[x = \\left(-0.8209889702162458 + 2.885476929518458i\\right), y = \\left(-1.205269272758512 - 1.59603445456048i\\right), z = \\left(0.09226835946330206 - 0.9957341762950345i\\right)\\right], \\left[x = \\left(-0.8209889702162483 - 2.885476929518458i\\right), y = \\left(-1.205269272758513 + 1.596034454560479i\\right), z = \\left(0.09226835946330206 + 0.9957341762950345i\\right)\\right], \\left[x = \\left(-1.807903909137758 - 2.394051681840712i\\right), y = \\left(0.8914767115530776 - 1.790326582710134i\\right), z = \\left(0.7390089172206591 - 0.6736956436465571i\\right)\\right], \\left[x = \\left(-1.80790390913777 + 2.394051681840719i\\right), y = \\left(0.8914767115530766 + 1.790326582710125i\\right), z = \\left(0.7390089172206591 + 0.6736956436465571i\\right)\\right], \\left[x = \\left(2.217026751661979 + 2.021086930939673i\\right), y = \\left(1.864944458808712 + 0.722483332374306i\\right), z = \\left(-0.2736629900720828 - 0.9618256431728189i\\right)\\right], \\left[x = \\left(2.217026751662001 - 2.021086930939692i\\right), y = \\left(1.864944458808694 - 0.7224833323742995i\\right), z = \\left(-0.2736629900720828 + 0.9618256431728189i\\right)\\right], \\left[x = \\left(2.797416688213066 - 1.08372499856146i\\right), y = \\left(-1.965946199367804 + 0.3674990356331407i\\right), z = \\left(-0.6026346363792563 - 0.7980172272802396i\\right)\\right], \\left[x = \\left(2.797416688213066 + 1.08372499856146i\\right), y = \\left(-1.965946199367804 - 0.3674990356331408i\\right), z = \\left(-0.6026346363792563 + 0.7980172272802396i\\right)\\right], \\left[x = \\left(-2.948919299051704 + 0.5512485534497115i\\right), y = \\left(0.184536718926604 + 1.991468352590069i\\right), z = \\left(0.4457383557765383 - 0.8951632913550623i\\right)\\right], \\left[x = \\left(-2.948919299051704 - 0.5512485534497117i\\right), y = \\left(0.184536718926604 - 1.991468352590069i\\right), z = \\left(0.4457383557765383 + 0.8951632913550623i\\right)\\right]\\right]\\)</html>"
      ],
      "text/latex": [
       "$\\displaystyle \\left[\\left[x = 3, y = 2, z = 1\\right], \\left[x = \\left(1.337215067329613 - 2.685489874065195i\\right), y = \\left(-1.700434271459228 + 1.052864325754712i\\right), z = \\left(0.9324722294043555 - 0.3612416661871523i\\right)\\right], \\left[x = \\left(1.337215067329613 + 2.685489874065194i\\right), y = \\left(-1.700434271459228 - 1.052864325754712i\\right), z = \\left(0.9324722294043555 + 0.3612416661871523i\\right)\\right], \\left[x = \\left(-2.550651407188846 - 1.579296488632072i\\right), y = \\left(-0.5473259801441661 + 1.923651286345638i\\right), z = \\left(-0.9829730996839015 - 0.1837495178165701i\\right)\\right], \\left[x = \\left(-2.550651407188845 + 1.57929648863207i\\right), y = \\left(-0.5473259801441662 - 1.923651286345638i\\right), z = \\left(-0.9829730996839015 + 0.1837495178165701i\\right)\\right], \\left[x = \\left(0.2768050783899189 - 2.987202528885064i\\right), y = \\left(1.478017834441328 - 1.347391287293138i\\right), z = \\left(-0.8502171357296144 - 0.526432162877356i\\right)\\right], \\left[x = \\left(0.2768050783899063 + 2.9872025288851i\\right), y = \\left(1.478017834441318 + 1.347391287293114i\\right), z = \\left(-0.8502171357296144 + 0.526432162877356i\\right)\\right], \\left[x = \\left(-0.8209889702162458 + 2.885476929518458i\\right), y = \\left(-1.205269272758512 - 1.59603445456048i\\right), z = \\left(0.09226835946330206 - 0.9957341762950345i\\right)\\right], \\left[x = \\left(-0.8209889702162483 - 2.885476929518458i\\right), y = \\left(-1.205269272758513 + 1.596034454560479i\\right), z = \\left(0.09226835946330206 + 0.9957341762950345i\\right)\\right], \\left[x = \\left(-1.807903909137758 - 2.394051681840712i\\right), y = \\left(0.8914767115530776 - 1.790326582710134i\\right), z = \\left(0.7390089172206591 - 0.6736956436465571i\\right)\\right], \\left[x = \\left(-1.80790390913777 + 2.394051681840719i\\right), y = \\left(0.8914767115530766 + 1.790326582710125i\\right), z = \\left(0.7390089172206591 + 0.6736956436465571i\\right)\\right], \\left[x = \\left(2.217026751661979 + 2.021086930939673i\\right), y = \\left(1.864944458808712 + 0.722483332374306i\\right), z = \\left(-0.2736629900720828 - 0.9618256431728189i\\right)\\right], \\left[x = \\left(2.217026751662001 - 2.021086930939692i\\right), y = \\left(1.864944458808694 - 0.7224833323742995i\\right), z = \\left(-0.2736629900720828 + 0.9618256431728189i\\right)\\right], \\left[x = \\left(2.797416688213066 - 1.08372499856146i\\right), y = \\left(-1.965946199367804 + 0.3674990356331407i\\right), z = \\left(-0.6026346363792563 - 0.7980172272802396i\\right)\\right], \\left[x = \\left(2.797416688213066 + 1.08372499856146i\\right), y = \\left(-1.965946199367804 - 0.3674990356331408i\\right), z = \\left(-0.6026346363792563 + 0.7980172272802396i\\right)\\right], \\left[x = \\left(-2.948919299051704 + 0.5512485534497115i\\right), y = \\left(0.184536718926604 + 1.991468352590069i\\right), z = \\left(0.4457383557765383 - 0.8951632913550623i\\right)\\right], \\left[x = \\left(-2.948919299051704 - 0.5512485534497117i\\right), y = \\left(0.184536718926604 - 1.991468352590069i\\right), z = \\left(0.4457383557765383 + 0.8951632913550623i\\right)\\right]\\right]$"
      ],
      "text/plain": [
       "[[x == 3, y == 2, z == 1], [x == (1.337215067329613 - 2.685489874065195*I), y == (-1.700434271459228 + 1.052864325754712*I), z == (0.9324722294043555 - 0.3612416661871523*I)], [x == (1.337215067329613 + 2.685489874065194*I), y == (-1.700434271459228 - 1.052864325754712*I), z == (0.9324722294043555 + 0.3612416661871523*I)], [x == (-2.550651407188846 - 1.579296488632072*I), y == (-0.5473259801441661 + 1.923651286345638*I), z == (-0.9829730996839015 - 0.1837495178165701*I)], [x == (-2.550651407188845 + 1.57929648863207*I), y == (-0.5473259801441662 - 1.923651286345638*I), z == (-0.9829730996839015 + 0.1837495178165701*I)], [x == (0.2768050783899189 - 2.987202528885064*I), y == (1.478017834441328 - 1.347391287293138*I), z == (-0.8502171357296144 - 0.526432162877356*I)], [x == (0.2768050783899063 + 2.9872025288851*I), y == (1.478017834441318 + 1.347391287293114*I), z == (-0.8502171357296144 + 0.526432162877356*I)], [x == (-0.8209889702162458 + 2.885476929518458*I), y == (-1.205269272758512 - 1.59603445456048*I), z == (0.09226835946330206 - 0.9957341762950345*I)], [x == (-0.8209889702162483 - 2.885476929518458*I), y == (-1.205269272758513 + 1.596034454560479*I), z == (0.09226835946330206 + 0.9957341762950345*I)], [x == (-1.807903909137758 - 2.394051681840712*I), y == (0.8914767115530776 - 1.790326582710134*I), z == (0.7390089172206591 - 0.6736956436465571*I)], [x == (-1.80790390913777 + 2.394051681840719*I), y == (0.8914767115530766 + 1.790326582710125*I), z == (0.7390089172206591 + 0.6736956436465571*I)], [x == (2.217026751661979 + 2.021086930939673*I), y == (1.864944458808712 + 0.722483332374306*I), z == (-0.2736629900720828 - 0.9618256431728189*I)], [x == (2.217026751662001 - 2.021086930939692*I), y == (1.864944458808694 - 0.7224833323742995*I), z == (-0.2736629900720828 + 0.9618256431728189*I)], [x == (2.797416688213066 - 1.08372499856146*I), y == (-1.965946199367804 + 0.3674990356331407*I), z == (-0.6026346363792563 - 0.7980172272802396*I)], [x == (2.797416688213066 + 1.08372499856146*I), y == (-1.965946199367804 - 0.3674990356331408*I), z == (-0.6026346363792563 + 0.7980172272802396*I)], [x == (-2.948919299051704 + 0.5512485534497115*I), y == (0.184536718926604 + 1.991468352590069*I), z == (0.4457383557765383 - 0.8951632913550623*I)], [x == (-2.948919299051704 - 0.5512485534497117*I), y == (0.184536718926604 - 1.991468352590069*I), z == (0.4457383557765383 + 0.8951632913550623*I)]]"
      ]
     },
     "execution_count": 18,
     "metadata": {},
     "output_type": "execute_result"
    }
   ],
   "source": [
    "eq1 = x^2 * y * z == 18\n",
    "eq2 = x * y^3 * z == 24\n",
    "eq3 = x * y * z^4 == 6\n",
    "\n",
    "solve([eq1, eq2, eq3], x,y,z)"
   ]
  },
  {
   "cell_type": "markdown",
   "id": "7fa705ac",
   "metadata": {},
   "source": [
    " Solve eqns numerically"
   ]
  },
  {
   "cell_type": "code",
   "execution_count": 19,
   "id": "8520a530",
   "metadata": {},
   "outputs": [
    {
     "data": {
      "text/html": [
       "<html>\\(\\displaystyle \\left[\\sin\\left(3 \\, x\\right) = -\\sin\\left(2 \\, x\\right) - \\sin\\left(x\\right)\\right]\\)</html>"
      ],
      "text/latex": [
       "$\\displaystyle \\left[\\sin\\left(3 \\, x\\right) = -\\sin\\left(2 \\, x\\right) - \\sin\\left(x\\right)\\right]$"
      ],
      "text/plain": [
       "[sin(3*x) == -sin(2*x) - sin(x)]"
      ]
     },
     "execution_count": 19,
     "metadata": {},
     "output_type": "execute_result"
    }
   ],
   "source": [
    "expr = sin(x) + sin(2*x) + sin(3*x)\n",
    "solve(expr, x)"
   ]
  },
  {
   "cell_type": "code",
   "execution_count": 21,
   "id": "e9482e43",
   "metadata": {},
   "outputs": [],
   "source": [
    "expr = expr.simplify_full()\n",
    "e"
   ]
  },
  {
   "cell_type": "code",
   "execution_count": null,
   "id": "fdcfeb05",
   "metadata": {},
   "outputs": [],
   "source": []
  }
 ],
 "metadata": {
  "kernelspec": {
   "display_name": "SageMath 9.7",
   "language": "sage",
   "name": "sagemath"
  },
  "language_info": {
   "codemirror_mode": {
    "name": "ipython",
    "version": 3
   },
   "file_extension": ".py",
   "mimetype": "text/x-python",
   "name": "python",
   "nbconvert_exporter": "python",
   "pygments_lexer": "ipython3",
   "version": "3.10.8"
  }
 },
 "nbformat": 4,
 "nbformat_minor": 5
}
