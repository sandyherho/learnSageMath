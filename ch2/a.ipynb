{
 "cells": [
  {
   "cell_type": "code",
   "execution_count": 2,
   "id": "70b3de61",
   "metadata": {},
   "outputs": [],
   "source": [
    "%display latex\n",
    "import matplotlib.pyplot as plt\n",
    "plt.style.use('ggplot')"
   ]
  },
  {
   "cell_type": "markdown",
   "id": "19b8b9fe",
   "metadata": {},
   "source": [
    "# Symbolic exp & simplifications"
   ]
  },
  {
   "cell_type": "markdown",
   "id": "07f5a3ea",
   "metadata": {},
   "source": [
    "## Symbolc expressions"
   ]
  },
  {
   "cell_type": "code",
   "execution_count": 3,
   "id": "4388ec9d",
   "metadata": {},
   "outputs": [
    {
     "data": {
      "text/html": [
       "<html>\\(\\displaystyle \\arctan\\left({\\left| x \\right|} + 1\\right)\\)</html>"
      ],
      "text/latex": [
       "$\\displaystyle \\arctan\\left({\\left| x \\right|} + 1\\right)$"
      ],
      "text/plain": [
       "arctan(abs(x) + 1)"
      ]
     },
     "execution_count": 3,
     "metadata": {},
     "output_type": "execute_result"
    }
   ],
   "source": [
    "expr1 = arctan(1 +abs(x))\n",
    "expr1"
   ]
  },
  {
   "cell_type": "code",
   "execution_count": 5,
   "id": "69d9d4da",
   "metadata": {},
   "outputs": [
    {
     "data": {
      "text/html": [
       "<html>\\(\\displaystyle \\frac{1}{2} \\, \\pi - \\arctan\\left(\\frac{1}{{\\left| x \\right|}}\\right)\\)</html>"
      ],
      "text/latex": [
       "$\\displaystyle \\frac{1}{2} \\, \\pi - \\arctan\\left(\\frac{1}{{\\left| x \\right|}}\\right)$"
      ],
      "text/plain": [
       "1/2*pi - arctan(1/abs(x))"
      ]
     },
     "execution_count": 5,
     "metadata": {},
     "output_type": "execute_result"
    }
   ],
   "source": [
    "expr2 = pi/2 - arctan(1 / abs(x))\n",
    "expr2"
   ]
  },
  {
   "cell_type": "code",
   "execution_count": 6,
   "id": "799ef21e",
   "metadata": {},
   "outputs": [
    {
     "data": {
      "text/html": [
       "<html>\\(\\displaystyle \\mathrm{False}\\)</html>"
      ],
      "text/latex": [
       "$\\displaystyle \\mathrm{False}$"
      ],
      "text/plain": [
       "False"
      ]
     },
     "execution_count": 6,
     "metadata": {},
     "output_type": "execute_result"
    }
   ],
   "source": [
    "bool(expr1 == expr2)"
   ]
  },
  {
   "cell_type": "code",
   "execution_count": 7,
   "id": "9146dc89",
   "metadata": {},
   "outputs": [],
   "source": [
    "a, x =var('a, x')"
   ]
  },
  {
   "cell_type": "code",
   "execution_count": 9,
   "id": "d49db37d",
   "metadata": {},
   "outputs": [
    {
     "data": {
      "text/html": [
       "<html>\\(\\displaystyle {\\left(x + 1\\right)} \\cos\\left(a + x\\right)\\)</html>"
      ],
      "text/latex": [
       "$\\displaystyle {\\left(x + 1\\right)} \\cos\\left(a + x\\right)$"
      ],
      "text/plain": [
       "(x + 1)*cos(a + x)"
      ]
     },
     "execution_count": 9,
     "metadata": {},
     "output_type": "execute_result"
    }
   ],
   "source": [
    "y = cos(x + a) * (x + 1)\n",
    "y"
   ]
  },
  {
   "cell_type": "code",
   "execution_count": 10,
   "id": "ad72ffa7",
   "metadata": {},
   "outputs": [
    {
     "data": {
      "text/html": [
       "<html>\\(\\displaystyle x + 1\\)</html>"
      ],
      "text/latex": [
       "$\\displaystyle x + 1$"
      ],
      "text/plain": [
       "x + 1"
      ]
     },
     "execution_count": 10,
     "metadata": {},
     "output_type": "execute_result"
    }
   ],
   "source": [
    "y.subs(a = -x)"
   ]
  },
  {
   "cell_type": "code",
   "execution_count": 11,
   "id": "8606acf1",
   "metadata": {},
   "outputs": [
    {
     "data": {
      "text/html": [
       "<html>\\(\\displaystyle {\\left(x + 1\\right)} \\cos\\left(a + x\\right)\\)</html>"
      ],
      "text/latex": [
       "$\\displaystyle {\\left(x + 1\\right)} \\cos\\left(a + x\\right)$"
      ],
      "text/plain": [
       "(x + 1)*cos(a + x)"
      ]
     },
     "execution_count": 11,
     "metadata": {},
     "output_type": "execute_result"
    }
   ],
   "source": [
    "y"
   ]
  },
  {
   "cell_type": "code",
   "execution_count": 12,
   "id": "11209558",
   "metadata": {},
   "outputs": [
    {
     "data": {
      "text/html": [
       "<html>\\(\\displaystyle -\\frac{1}{4} \\, \\sqrt{3} {\\left(\\pi + 2\\right)}\\)</html>"
      ],
      "text/latex": [
       "$\\displaystyle -\\frac{1}{4} \\, \\sqrt{3} {\\left(\\pi + 2\\right)}$"
      ],
      "text/plain": [
       "-1/4*sqrt(3)*(pi + 2)"
      ]
     },
     "execution_count": 12,
     "metadata": {},
     "output_type": "execute_result"
    }
   ],
   "source": [
    "y.subs(x=pi/2, a=pi/3)"
   ]
  },
  {
   "cell_type": "code",
   "execution_count": 13,
   "id": "1146c24f",
   "metadata": {},
   "outputs": [
    {
     "data": {
      "text/html": [
       "<html>\\(\\displaystyle {\\left(x + 1\\right)} \\cos\\left(a + x\\right)\\)</html>"
      ],
      "text/latex": [
       "$\\displaystyle {\\left(x + 1\\right)} \\cos\\left(a + x\\right)$"
      ],
      "text/plain": [
       "(x + 1)*cos(a + x)"
      ]
     },
     "execution_count": 13,
     "metadata": {},
     "output_type": "execute_result"
    }
   ],
   "source": [
    "y"
   ]
  },
  {
   "cell_type": "code",
   "execution_count": 14,
   "id": "01bbfb93",
   "metadata": {},
   "outputs": [
    {
     "data": {
      "text/html": [
       "<html>\\(\\displaystyle -1.41333351100299\\)</html>"
      ],
      "text/latex": [
       "$\\displaystyle -1.41333351100299$"
      ],
      "text/plain": [
       "-1.41333351100299"
      ]
     },
     "execution_count": 14,
     "metadata": {},
     "output_type": "execute_result"
    }
   ],
   "source": [
    "y.subs(x=.5, a = 2.3)"
   ]
  },
  {
   "cell_type": "code",
   "execution_count": 15,
   "id": "b2656800",
   "metadata": {},
   "outputs": [
    {
     "data": {
      "text/html": [
       "<html>\\(\\displaystyle {\\left(x + 1\\right)} \\cos\\left(a + x\\right)\\)</html>"
      ],
      "text/latex": [
       "$\\displaystyle {\\left(x + 1\\right)} \\cos\\left(a + x\\right)$"
      ],
      "text/plain": [
       "(x + 1)*cos(a + x)"
      ]
     },
     "execution_count": 15,
     "metadata": {},
     "output_type": "execute_result"
    }
   ],
   "source": [
    "y"
   ]
  },
  {
   "cell_type": "code",
   "execution_count": 16,
   "id": "1221ad93",
   "metadata": {},
   "outputs": [
    {
     "data": {
      "text/html": [
       "<html>\\(\\displaystyle x + 1\\)</html>"
      ],
      "text/latex": [
       "$\\displaystyle x + 1$"
      ],
      "text/plain": [
       "x + 1"
      ]
     },
     "execution_count": 16,
     "metadata": {},
     "output_type": "execute_result"
    }
   ],
   "source": [
    "y(a=-x)"
   ]
  },
  {
   "cell_type": "code",
   "execution_count": 17,
   "id": "410654a9",
   "metadata": {},
   "outputs": [
    {
     "data": {
      "text/html": [
       "<html>\\(\\displaystyle {\\left(x + 1\\right)} \\cos\\left(a + x\\right)\\)</html>"
      ],
      "text/latex": [
       "$\\displaystyle {\\left(x + 1\\right)} \\cos\\left(a + x\\right)$"
      ],
      "text/plain": [
       "(x + 1)*cos(a + x)"
      ]
     },
     "execution_count": 17,
     "metadata": {},
     "output_type": "execute_result"
    }
   ],
   "source": [
    "y"
   ]
  },
  {
   "cell_type": "code",
   "execution_count": 18,
   "id": "c8e66b06",
   "metadata": {},
   "outputs": [
    {
     "data": {
      "text/html": [
       "<html>\\(\\displaystyle -\\frac{1}{4} \\, \\sqrt{3} {\\left(\\pi + 2\\right)}\\)</html>"
      ],
      "text/latex": [
       "$\\displaystyle -\\frac{1}{4} \\, \\sqrt{3} {\\left(\\pi + 2\\right)}$"
      ],
      "text/plain": [
       "-1/4*sqrt(3)*(pi + 2)"
      ]
     },
     "execution_count": 18,
     "metadata": {},
     "output_type": "execute_result"
    }
   ],
   "source": [
    "y(x=pi/2, a=pi/3)"
   ]
  },
  {
   "cell_type": "code",
   "execution_count": 19,
   "id": "799c2eb1",
   "metadata": {},
   "outputs": [
    {
     "data": {
      "text/html": [
       "<html>\\(\\displaystyle -1.41333351100299\\)</html>"
      ],
      "text/latex": [
       "$\\displaystyle -1.41333351100299$"
      ],
      "text/plain": [
       "-1.41333351100299"
      ]
     },
     "execution_count": 19,
     "metadata": {},
     "output_type": "execute_result"
    }
   ],
   "source": [
    " y(x=.5, a = 2.3)"
   ]
  },
  {
   "cell_type": "code",
   "execution_count": 20,
   "id": "e8a629cd",
   "metadata": {},
   "outputs": [],
   "source": [
    "x, y, z = var('x, y, z')"
   ]
  },
  {
   "cell_type": "code",
   "execution_count": 21,
   "id": "2eb102d8",
   "metadata": {},
   "outputs": [
    {
     "data": {
      "text/html": [
       "<html>\\(\\displaystyle x y + x z + y z\\)</html>"
      ],
      "text/latex": [
       "$\\displaystyle x y + x z + y z$"
      ],
      "text/plain": [
       "x*y + x*z + y*z"
      ]
     },
     "execution_count": 21,
     "metadata": {},
     "output_type": "execute_result"
    }
   ],
   "source": [
    "q = x*y + y*z + z*x\n",
    "q"
   ]
  },
  {
   "cell_type": "code",
   "execution_count": 23,
   "id": "8179ede6",
   "metadata": {},
   "outputs": [
    {
     "data": {
      "text/html": [
       "<html>\\(\\displaystyle x y + x z + y z\\)</html>"
      ],
      "text/latex": [
       "$\\displaystyle x y + x z + y z$"
      ],
      "text/plain": [
       "x*y + x*z + y*z"
      ]
     },
     "execution_count": 23,
     "metadata": {},
     "output_type": "execute_result"
    }
   ],
   "source": [
    "expr1 = q(x=y, y=z, z=x)\n",
    "expr1"
   ]
  },
  {
   "cell_type": "code",
   "execution_count": 24,
   "id": "17cbdcf9",
   "metadata": {},
   "outputs": [
    {
     "data": {
      "text/html": [
       "<html>\\(\\displaystyle \\mathrm{True}\\)</html>"
      ],
      "text/latex": [
       "$\\displaystyle \\mathrm{True}$"
      ],
      "text/plain": [
       "True"
      ]
     },
     "execution_count": 24,
     "metadata": {},
     "output_type": "execute_result"
    }
   ],
   "source": [
    "bool(q == expr1)"
   ]
  },
  {
   "cell_type": "code",
   "execution_count": 31,
   "id": "d5fa595c",
   "metadata": {},
   "outputs": [
    {
     "data": {
      "text/html": [
       "<html>\\(\\displaystyle \\mathrm{False}\\)</html>"
      ],
      "text/latex": [
       "$\\displaystyle \\mathrm{False}$"
      ],
      "text/plain": [
       "False"
      ]
     },
     "execution_count": 31,
     "metadata": {},
     "output_type": "execute_result"
    }
   ],
   "source": [
    "expr2 = q(z=y, y=x)\n",
    "bool(expr2 == 3*x^2)"
   ]
  },
  {
   "cell_type": "code",
   "execution_count": 32,
   "id": "95761af2",
   "metadata": {},
   "outputs": [],
   "source": [
    "y, z = var('y, z')"
   ]
  },
  {
   "cell_type": "code",
   "execution_count": 34,
   "id": "24b50184",
   "metadata": {},
   "outputs": [
    {
     "data": {
      "text/html": [
       "<html>\\(\\displaystyle x^{3} + y^{2} + z\\)</html>"
      ],
      "text/latex": [
       "$\\displaystyle x^{3} + y^{2} + z$"
      ],
      "text/plain": [
       "x^3 + y^2 + z"
      ]
     },
     "execution_count": 34,
     "metadata": {},
     "output_type": "execute_result"
    }
   ],
   "source": [
    "f = x^3 + y^2 + z\n",
    "f"
   ]
  },
  {
   "cell_type": "code",
   "execution_count": 35,
   "id": "5c378b8a",
   "metadata": {},
   "outputs": [
    {
     "data": {
      "text/html": [
       "<html>\\(\\displaystyle 2 \\, y^{2} + 1\\)</html>"
      ],
      "text/latex": [
       "$\\displaystyle 2 \\, y^{2} + 1$"
      ],
      "text/plain": [
       "2*y^2 + 1"
      ]
     },
     "execution_count": 35,
     "metadata": {},
     "output_type": "execute_result"
    }
   ],
   "source": [
    "f.substitute(x^3 == y^2, z==1)"
   ]
  },
  {
   "cell_type": "markdown",
   "id": "f7d4f9fa",
   "metadata": {},
   "source": [
    "## Transforming expressions"
   ]
  },
  {
   "cell_type": "code",
   "execution_count": 36,
   "id": "6195bfb6",
   "metadata": {},
   "outputs": [],
   "source": [
    "reset()"
   ]
  },
  {
   "cell_type": "code",
   "execution_count": 37,
   "id": "2fd7f32b",
   "metadata": {},
   "outputs": [],
   "source": [
    "x, y = SR.var('x, y')"
   ]
  },
  {
   "cell_type": "code",
   "execution_count": 39,
   "id": "ae6d899d",
   "metadata": {},
   "outputs": [
    {
     "data": {
      "text/html": [
       "<html>\\(\\displaystyle {\\left(x + y\\right)} {\\left(x + 1\\right)}^{2}\\)</html>"
      ],
      "text/latex": [
       "$\\displaystyle {\\left(x + y\\right)} {\\left(x + 1\\right)}^{2}$"
      ],
      "text/plain": [
       "(x + y)*(x + 1)^2"
      ]
     },
     "execution_count": 39,
     "metadata": {},
     "output_type": "execute_result"
    }
   ],
   "source": [
    "p = (x+y)*(x+1)^2\n",
    "p"
   ]
  },
  {
   "cell_type": "code",
   "execution_count": 40,
   "id": "b556efa6",
   "metadata": {},
   "outputs": [
    {
     "data": {
      "text/html": [
       "<html>\\(\\displaystyle x^{3} + x^{2} y + 2 \\, x^{2} + 2 \\, x y + x + y\\)</html>"
      ],
      "text/latex": [
       "$\\displaystyle x^{3} + x^{2} y + 2 \\, x^{2} + 2 \\, x y + x + y$"
      ],
      "text/plain": [
       "x^3 + x^2*y + 2*x^2 + 2*x*y + x + y"
      ]
     },
     "execution_count": 40,
     "metadata": {},
     "output_type": "execute_result"
    }
   ],
   "source": [
    "p2 = p.expand()\n",
    "p2"
   ]
  },
  {
   "cell_type": "code",
   "execution_count": 41,
   "id": "99857302",
   "metadata": {},
   "outputs": [
    {
     "data": {
      "text/html": [
       "<html>\\(\\displaystyle x^{3} + x^{2} {\\left(y + 2\\right)} + x {\\left(2 \\, y + 1\\right)} + y\\)</html>"
      ],
      "text/latex": [
       "$\\displaystyle x^{3} + x^{2} {\\left(y + 2\\right)} + x {\\left(2 \\, y + 1\\right)} + y$"
      ],
      "text/plain": [
       "x^3 + x^2*(y + 2) + x*(2*y + 1) + y"
      ]
     },
     "execution_count": 41,
     "metadata": {},
     "output_type": "execute_result"
    }
   ],
   "source": [
    "p2.collect(x)"
   ]
  },
  {
   "cell_type": "code",
   "execution_count": null,
   "id": "6c7c2f37",
   "metadata": {},
   "outputs": [],
   "source": []
  }
 ],
 "metadata": {
  "kernelspec": {
   "display_name": "SageMath 9.7",
   "language": "sage",
   "name": "sagemath"
  },
  "language_info": {
   "codemirror_mode": {
    "name": "ipython",
    "version": 3
   },
   "file_extension": ".py",
   "mimetype": "text/x-python",
   "name": "python",
   "nbconvert_exporter": "python",
   "pygments_lexer": "ipython3",
   "version": "3.10.8"
  }
 },
 "nbformat": 4,
 "nbformat_minor": 5
}
